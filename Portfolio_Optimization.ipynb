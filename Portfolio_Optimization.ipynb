{
  "nbformat": 4,
  "nbformat_minor": 0,
  "metadata": {
    "colab": {
      "provenance": []
    },
    "kernelspec": {
      "name": "python3",
      "display_name": "Python 3"
    },
    "language_info": {
      "name": "python"
    }
  },
  "cells": [
    {
      "cell_type": "markdown",
      "source": [
        "**Installing required modules**"
      ],
      "metadata": {
        "id": "MuDNb7L8t-Iz"
      }
    },
    {
      "cell_type": "code",
      "execution_count": null,
      "metadata": {
        "colab": {
          "base_uri": "https://localhost:8080/"
        },
        "id": "zwB9T4v52v8w",
        "outputId": "0bab9d79-7f9a-4a1f-c370-6adb0ea42dfd"
      },
      "outputs": [
        {
          "output_type": "stream",
          "name": "stdout",
          "text": [
            "Looking in indexes: https://pypi.org/simple, https://us-python.pkg.dev/colab-wheels/public/simple/\n",
            "Requirement already satisfied: PyPortfolioOpt in /usr/local/lib/python3.8/dist-packages (1.5.4)\n",
            "Requirement already satisfied: scipy<2.0,>=1.3 in /usr/local/lib/python3.8/dist-packages (from PyPortfolioOpt) (1.7.3)\n",
            "Requirement already satisfied: pandas>=0.19 in /usr/local/lib/python3.8/dist-packages (from PyPortfolioOpt) (1.3.5)\n",
            "Requirement already satisfied: numpy<2.0.0,>=1.22.4 in /usr/local/lib/python3.8/dist-packages (from PyPortfolioOpt) (1.22.4)\n",
            "Requirement already satisfied: cvxpy<2.0.0,>=1.1.10 in /usr/local/lib/python3.8/dist-packages (from PyPortfolioOpt) (1.2.2)\n",
            "Requirement already satisfied: osqp>=0.4.1 in /usr/local/lib/python3.8/dist-packages (from cvxpy<2.0.0,>=1.1.10->PyPortfolioOpt) (0.6.2.post0)\n",
            "Requirement already satisfied: ecos>=2 in /usr/local/lib/python3.8/dist-packages (from cvxpy<2.0.0,>=1.1.10->PyPortfolioOpt) (2.0.10)\n",
            "Requirement already satisfied: scs>=1.1.6 in /usr/local/lib/python3.8/dist-packages (from cvxpy<2.0.0,>=1.1.10->PyPortfolioOpt) (3.2.2)\n",
            "Requirement already satisfied: qdldl in /usr/local/lib/python3.8/dist-packages (from osqp>=0.4.1->cvxpy<2.0.0,>=1.1.10->PyPortfolioOpt) (0.1.5.post2)\n",
            "Requirement already satisfied: pytz>=2017.3 in /usr/local/lib/python3.8/dist-packages (from pandas>=0.19->PyPortfolioOpt) (2022.6)\n",
            "Requirement already satisfied: python-dateutil>=2.7.3 in /usr/local/lib/python3.8/dist-packages (from pandas>=0.19->PyPortfolioOpt) (2.8.2)\n",
            "Requirement already satisfied: six>=1.5 in /usr/local/lib/python3.8/dist-packages (from python-dateutil>=2.7.3->pandas>=0.19->PyPortfolioOpt) (1.15.0)\n",
            "Looking in indexes: https://pypi.org/simple, https://us-python.pkg.dev/colab-wheels/public/simple/\n",
            "Requirement already satisfied: yfinance in /usr/local/lib/python3.8/dist-packages (0.1.90)\n",
            "Requirement already satisfied: lxml>=4.9.1 in /usr/local/lib/python3.8/dist-packages (from yfinance) (4.9.2)\n",
            "Requirement already satisfied: multitasking>=0.0.7 in /usr/local/lib/python3.8/dist-packages (from yfinance) (0.0.11)\n",
            "Requirement already satisfied: appdirs>=1.4.4 in /usr/local/lib/python3.8/dist-packages (from yfinance) (1.4.4)\n",
            "Requirement already satisfied: numpy>=1.16.5 in /usr/local/lib/python3.8/dist-packages (from yfinance) (1.22.4)\n",
            "Requirement already satisfied: requests>=2.26 in /usr/local/lib/python3.8/dist-packages (from yfinance) (2.28.1)\n",
            "Requirement already satisfied: pandas>=1.3.0 in /usr/local/lib/python3.8/dist-packages (from yfinance) (1.3.5)\n",
            "Requirement already satisfied: pytz>=2017.3 in /usr/local/lib/python3.8/dist-packages (from pandas>=1.3.0->yfinance) (2022.6)\n",
            "Requirement already satisfied: python-dateutil>=2.7.3 in /usr/local/lib/python3.8/dist-packages (from pandas>=1.3.0->yfinance) (2.8.2)\n",
            "Requirement already satisfied: six>=1.5 in /usr/local/lib/python3.8/dist-packages (from python-dateutil>=2.7.3->pandas>=1.3.0->yfinance) (1.15.0)\n",
            "Requirement already satisfied: idna<4,>=2.5 in /usr/local/lib/python3.8/dist-packages (from requests>=2.26->yfinance) (2.10)\n",
            "Requirement already satisfied: charset-normalizer<3,>=2 in /usr/local/lib/python3.8/dist-packages (from requests>=2.26->yfinance) (2.1.1)\n",
            "Requirement already satisfied: certifi>=2017.4.17 in /usr/local/lib/python3.8/dist-packages (from requests>=2.26->yfinance) (2022.12.7)\n",
            "Requirement already satisfied: urllib3<1.27,>=1.21.1 in /usr/local/lib/python3.8/dist-packages (from requests>=2.26->yfinance) (1.24.3)\n"
          ]
        }
      ],
      "source": [
        "!pip install PyPortfolioOpt\n",
        "!pip install yfinance\n",
        "#importing libraries\n",
        "from pandas_datareader import data as web\n",
        "import pandas as pd\n",
        "import numpy as np\n",
        "from datetime import datetime\n",
        "import matplotlib.pyplot as plt\n",
        "from pypfopt import plotting\n",
        "from matplotlib.pyplot import figure\n",
        "from pypfopt.efficient_frontier import EfficientFrontier\n",
        "from pypfopt import risk_models\n",
        "from pypfopt import expected_returns\n",
        "from pandas_datareader import data as pdr\n",
        "import sys\n",
        "from multiprocessing import Pool\n",
        "import seaborn as sns\n",
        "import yfinance as yfin\n",
        "yfin.pdr_override()\n"
      ]
    },
    {
      "cell_type": "markdown",
      "source": [
        "**Importing datasets from Yahoo**"
      ],
      "metadata": {
        "id": "kbsyGhowuF-2"
      }
    },
    {
      "cell_type": "code",
      "execution_count": null,
      "metadata": {
        "id": "NGegU1xen1Jh"
      },
      "outputs": [],
      "source": [
        "#Tickers\n",
        "#SnP = ['AAPL','ABBV','ABT','ACN','AIG','AMGN','AMZN','AXP','BAC','BIIB','BK','BLK','BMY','CAT','CL','CMCSA','COF','COP','CSCO','CVS','DD','DHR','DIS','DUK','EMR','EXC','F','META','FDX','FOX','FOXA','GD','GE','GILD','GM','GOOG','GOOGL','GS','HAL','HD','HON','IBM', 'IRX','INTC','JNJ','JPM','KMI','KO','LLY','LMT','MA','MCD','MDLZ','MDT','MET','MMM','MO','MON','MRK','MS','MSFT','NEE','NKE','ORCL','PEP','PFE','PG','PM','PYPL','QCOM','SBUX','SLB','SO','SPG','T','TGT','TXN','UNH','UNP','UPS','V','VZ','WBA','WFC']\n",
        "SnP =['META','AAPL','NFLX','GOOG', 'AIG', 'QCOM', \"EMC\", \"FB\", \"IRX\"]\n",
        "\n",
        "#Initialize the dates:\n",
        "StockStartDate = '2013-01-01'\n",
        "StockEndDate = datetime.today().strftime('%Y-%m-%d')"
      ]
    },
    {
      "cell_type": "code",
      "execution_count": null,
      "metadata": {
        "colab": {
          "base_uri": "https://localhost:8080/"
        },
        "id": "BRyPrZutwPlH",
        "outputId": "dc955fc5-3cad-4851-d490-0e9a7425c184"
      },
      "outputs": [
        {
          "output_type": "stream",
          "name": "stdout",
          "text": [
            "[*********************100%***********************]  1 of 1 completed\n",
            "[*********************100%***********************]  1 of 1 completed\n",
            "[*********************100%***********************]  1 of 1 completed\n",
            "[*********************100%***********************]  1 of 1 completed\n",
            "[*********************100%***********************]  1 of 1 completed\n",
            "[*********************100%***********************]  1 of 1 completed\n",
            "[*********************100%***********************]  1 of 1 completed\n",
            "[*********************100%***********************]  1 of 1 completed\n",
            "\n",
            "1 Failed download:\n",
            "- FB: No data found for this date range, symbol may be delisted\n",
            "[*********************100%***********************]  1 of 1 completed\n"
          ]
        }
      ],
      "source": [
        "#Create dataframe for \"ADJ CLOSE\" of the stocks\n",
        "df = pd.DataFrame()\n",
        "\n",
        "#Store the adj close\n",
        "\n",
        "for stock in SnP:\n",
        "  df[stock] = pdr.get_data_yahoo(stock, start = StockStartDate, end = StockEndDate)['Adj Close']\n"
      ]
    },
    {
      "cell_type": "code",
      "source": [
        "'''\n",
        "TYX = pd.DataFrame()\n",
        "IRX = pd.DataFrame()\n",
        "TNX = pd.DataFrame()\n",
        "'''\n",
        "'''\n",
        "\n",
        "StockStartDate = '2013-01-01'\n",
        "StockEndDate = datetime.today().strftime('%Y-%m-%d')\n",
        "\n",
        "\n",
        "TYX = pdr.get_data_yahoo('TYX', start = StockStartDate, end = StockEndDate)['Close']\n",
        "IRX = pdr.get_data_yahoo('IRX', start = StockStartDate, end = StockEndDate)['Close']\n",
        "\n",
        "TNX = pdr.get_data_yahoo('TNX', start = StockStartDate, end = StockEndDate)['Close']\n",
        "\n",
        "'''"
      ],
      "metadata": {
        "colab": {
          "base_uri": "https://localhost:8080/",
          "height": 70
        },
        "id": "bUO5rBfJMlSx",
        "outputId": "651ff5c7-67a4-4024-f8cc-ccbe36050818"
      },
      "execution_count": null,
      "outputs": [
        {
          "output_type": "execute_result",
          "data": {
            "text/plain": [
              "\"\\n\\nStockStartDate = '2013-01-01'\\nStockEndDate = datetime.today().strftime('%Y-%m-%d')\\n\\n\\nTYX = pdr.get_data_yahoo('TYX', start = StockStartDate, end = StockEndDate)['Close']\\nIRX = pdr.get_data_yahoo('IRX', start = StockStartDate, end = StockEndDate)['Close']\\n\\nTNX = pdr.get_data_yahoo('TNX', start = StockStartDate, end = StockEndDate)['Close']\\n\\n\""
            ],
            "application/vnd.google.colaboratory.intrinsic+json": {
              "type": "string"
            }
          },
          "metadata": {},
          "execution_count": 69
        }
      ]
    },
    {
      "cell_type": "code",
      "execution_count": null,
      "metadata": {
        "colab": {
          "base_uri": "https://localhost:8080/",
          "height": 455
        },
        "id": "tCo329uxwVpY",
        "outputId": "de650a4f-8267-4827-e8d3-4e2e66a39add"
      },
      "outputs": [
        {
          "output_type": "execute_result",
          "data": {
            "text/plain": [
              "                  META        AAPL        NFLX       GOOG        AIG  \\\n",
              "Date                                                                   \n",
              "2013-01-02   28.000000   16.862825   13.144286  18.013729  29.553614   \n",
              "2013-01-03   27.770000   16.649981   13.798571  18.024191  29.310574   \n",
              "2013-01-04   28.760000   16.186199   13.711429  18.380356  29.407776   \n",
              "2013-01-07   29.420000   16.090988   14.171429  18.300158  29.108036   \n",
              "2013-01-08   29.059999   16.134289   13.880000  18.264042  28.881195   \n",
              "...                ...         ...         ...        ...        ...   \n",
              "2022-12-12  114.709999  144.490005  315.179993  93.559998  63.190250   \n",
              "2022-12-13  120.150002  145.470001  320.339996  95.849998  63.240002   \n",
              "2022-12-14  121.589996  143.210007  317.829987  95.309998  62.660000   \n",
              "2022-12-15  116.150002  136.500000  290.410004  91.199997  62.209999   \n",
              "2022-12-16  119.430000  134.509995  290.709991  90.860001  62.570000   \n",
              "\n",
              "                  QCOM          EMC  FB  IRX  \n",
              "Date                                          \n",
              "2013-01-02   48.689087  5338.169922 NaN  NaN  \n",
              "2013-01-03   48.463516  5338.169922 NaN  NaN  \n",
              "2013-01-04   47.749146  5338.169922 NaN  NaN  \n",
              "2013-01-07   48.132652  5250.660156 NaN  NaN  \n",
              "2013-01-08   48.057449  5075.629883 NaN  NaN  \n",
              "...                ...          ...  ..  ...  \n",
              "2022-12-12  121.209999          NaN NaN  NaN  \n",
              "2022-12-13  123.489998          NaN NaN  NaN  \n",
              "2022-12-14  121.709999          NaN NaN  NaN  \n",
              "2022-12-15  116.639999          NaN NaN  NaN  \n",
              "2022-12-16  114.529999          NaN NaN  NaN  \n",
              "\n",
              "[2509 rows x 9 columns]"
            ],
            "text/html": [
              "\n",
              "  <div id=\"df-a132ab14-d9ef-414b-8e26-22cd9300115e\">\n",
              "    <div class=\"colab-df-container\">\n",
              "      <div>\n",
              "<style scoped>\n",
              "    .dataframe tbody tr th:only-of-type {\n",
              "        vertical-align: middle;\n",
              "    }\n",
              "\n",
              "    .dataframe tbody tr th {\n",
              "        vertical-align: top;\n",
              "    }\n",
              "\n",
              "    .dataframe thead th {\n",
              "        text-align: right;\n",
              "    }\n",
              "</style>\n",
              "<table border=\"1\" class=\"dataframe\">\n",
              "  <thead>\n",
              "    <tr style=\"text-align: right;\">\n",
              "      <th></th>\n",
              "      <th>META</th>\n",
              "      <th>AAPL</th>\n",
              "      <th>NFLX</th>\n",
              "      <th>GOOG</th>\n",
              "      <th>AIG</th>\n",
              "      <th>QCOM</th>\n",
              "      <th>EMC</th>\n",
              "      <th>FB</th>\n",
              "      <th>IRX</th>\n",
              "    </tr>\n",
              "    <tr>\n",
              "      <th>Date</th>\n",
              "      <th></th>\n",
              "      <th></th>\n",
              "      <th></th>\n",
              "      <th></th>\n",
              "      <th></th>\n",
              "      <th></th>\n",
              "      <th></th>\n",
              "      <th></th>\n",
              "      <th></th>\n",
              "    </tr>\n",
              "  </thead>\n",
              "  <tbody>\n",
              "    <tr>\n",
              "      <th>2013-01-02</th>\n",
              "      <td>28.000000</td>\n",
              "      <td>16.862825</td>\n",
              "      <td>13.144286</td>\n",
              "      <td>18.013729</td>\n",
              "      <td>29.553614</td>\n",
              "      <td>48.689087</td>\n",
              "      <td>5338.169922</td>\n",
              "      <td>NaN</td>\n",
              "      <td>NaN</td>\n",
              "    </tr>\n",
              "    <tr>\n",
              "      <th>2013-01-03</th>\n",
              "      <td>27.770000</td>\n",
              "      <td>16.649981</td>\n",
              "      <td>13.798571</td>\n",
              "      <td>18.024191</td>\n",
              "      <td>29.310574</td>\n",
              "      <td>48.463516</td>\n",
              "      <td>5338.169922</td>\n",
              "      <td>NaN</td>\n",
              "      <td>NaN</td>\n",
              "    </tr>\n",
              "    <tr>\n",
              "      <th>2013-01-04</th>\n",
              "      <td>28.760000</td>\n",
              "      <td>16.186199</td>\n",
              "      <td>13.711429</td>\n",
              "      <td>18.380356</td>\n",
              "      <td>29.407776</td>\n",
              "      <td>47.749146</td>\n",
              "      <td>5338.169922</td>\n",
              "      <td>NaN</td>\n",
              "      <td>NaN</td>\n",
              "    </tr>\n",
              "    <tr>\n",
              "      <th>2013-01-07</th>\n",
              "      <td>29.420000</td>\n",
              "      <td>16.090988</td>\n",
              "      <td>14.171429</td>\n",
              "      <td>18.300158</td>\n",
              "      <td>29.108036</td>\n",
              "      <td>48.132652</td>\n",
              "      <td>5250.660156</td>\n",
              "      <td>NaN</td>\n",
              "      <td>NaN</td>\n",
              "    </tr>\n",
              "    <tr>\n",
              "      <th>2013-01-08</th>\n",
              "      <td>29.059999</td>\n",
              "      <td>16.134289</td>\n",
              "      <td>13.880000</td>\n",
              "      <td>18.264042</td>\n",
              "      <td>28.881195</td>\n",
              "      <td>48.057449</td>\n",
              "      <td>5075.629883</td>\n",
              "      <td>NaN</td>\n",
              "      <td>NaN</td>\n",
              "    </tr>\n",
              "    <tr>\n",
              "      <th>...</th>\n",
              "      <td>...</td>\n",
              "      <td>...</td>\n",
              "      <td>...</td>\n",
              "      <td>...</td>\n",
              "      <td>...</td>\n",
              "      <td>...</td>\n",
              "      <td>...</td>\n",
              "      <td>...</td>\n",
              "      <td>...</td>\n",
              "    </tr>\n",
              "    <tr>\n",
              "      <th>2022-12-12</th>\n",
              "      <td>114.709999</td>\n",
              "      <td>144.490005</td>\n",
              "      <td>315.179993</td>\n",
              "      <td>93.559998</td>\n",
              "      <td>63.190250</td>\n",
              "      <td>121.209999</td>\n",
              "      <td>NaN</td>\n",
              "      <td>NaN</td>\n",
              "      <td>NaN</td>\n",
              "    </tr>\n",
              "    <tr>\n",
              "      <th>2022-12-13</th>\n",
              "      <td>120.150002</td>\n",
              "      <td>145.470001</td>\n",
              "      <td>320.339996</td>\n",
              "      <td>95.849998</td>\n",
              "      <td>63.240002</td>\n",
              "      <td>123.489998</td>\n",
              "      <td>NaN</td>\n",
              "      <td>NaN</td>\n",
              "      <td>NaN</td>\n",
              "    </tr>\n",
              "    <tr>\n",
              "      <th>2022-12-14</th>\n",
              "      <td>121.589996</td>\n",
              "      <td>143.210007</td>\n",
              "      <td>317.829987</td>\n",
              "      <td>95.309998</td>\n",
              "      <td>62.660000</td>\n",
              "      <td>121.709999</td>\n",
              "      <td>NaN</td>\n",
              "      <td>NaN</td>\n",
              "      <td>NaN</td>\n",
              "    </tr>\n",
              "    <tr>\n",
              "      <th>2022-12-15</th>\n",
              "      <td>116.150002</td>\n",
              "      <td>136.500000</td>\n",
              "      <td>290.410004</td>\n",
              "      <td>91.199997</td>\n",
              "      <td>62.209999</td>\n",
              "      <td>116.639999</td>\n",
              "      <td>NaN</td>\n",
              "      <td>NaN</td>\n",
              "      <td>NaN</td>\n",
              "    </tr>\n",
              "    <tr>\n",
              "      <th>2022-12-16</th>\n",
              "      <td>119.430000</td>\n",
              "      <td>134.509995</td>\n",
              "      <td>290.709991</td>\n",
              "      <td>90.860001</td>\n",
              "      <td>62.570000</td>\n",
              "      <td>114.529999</td>\n",
              "      <td>NaN</td>\n",
              "      <td>NaN</td>\n",
              "      <td>NaN</td>\n",
              "    </tr>\n",
              "  </tbody>\n",
              "</table>\n",
              "<p>2509 rows × 9 columns</p>\n",
              "</div>\n",
              "      <button class=\"colab-df-convert\" onclick=\"convertToInteractive('df-a132ab14-d9ef-414b-8e26-22cd9300115e')\"\n",
              "              title=\"Convert this dataframe to an interactive table.\"\n",
              "              style=\"display:none;\">\n",
              "        \n",
              "  <svg xmlns=\"http://www.w3.org/2000/svg\" height=\"24px\"viewBox=\"0 0 24 24\"\n",
              "       width=\"24px\">\n",
              "    <path d=\"M0 0h24v24H0V0z\" fill=\"none\"/>\n",
              "    <path d=\"M18.56 5.44l.94 2.06.94-2.06 2.06-.94-2.06-.94-.94-2.06-.94 2.06-2.06.94zm-11 1L8.5 8.5l.94-2.06 2.06-.94-2.06-.94L8.5 2.5l-.94 2.06-2.06.94zm10 10l.94 2.06.94-2.06 2.06-.94-2.06-.94-.94-2.06-.94 2.06-2.06.94z\"/><path d=\"M17.41 7.96l-1.37-1.37c-.4-.4-.92-.59-1.43-.59-.52 0-1.04.2-1.43.59L10.3 9.45l-7.72 7.72c-.78.78-.78 2.05 0 2.83L4 21.41c.39.39.9.59 1.41.59.51 0 1.02-.2 1.41-.59l7.78-7.78 2.81-2.81c.8-.78.8-2.07 0-2.86zM5.41 20L4 18.59l7.72-7.72 1.47 1.35L5.41 20z\"/>\n",
              "  </svg>\n",
              "      </button>\n",
              "      \n",
              "  <style>\n",
              "    .colab-df-container {\n",
              "      display:flex;\n",
              "      flex-wrap:wrap;\n",
              "      gap: 12px;\n",
              "    }\n",
              "\n",
              "    .colab-df-convert {\n",
              "      background-color: #E8F0FE;\n",
              "      border: none;\n",
              "      border-radius: 50%;\n",
              "      cursor: pointer;\n",
              "      display: none;\n",
              "      fill: #1967D2;\n",
              "      height: 32px;\n",
              "      padding: 0 0 0 0;\n",
              "      width: 32px;\n",
              "    }\n",
              "\n",
              "    .colab-df-convert:hover {\n",
              "      background-color: #E2EBFA;\n",
              "      box-shadow: 0px 1px 2px rgba(60, 64, 67, 0.3), 0px 1px 3px 1px rgba(60, 64, 67, 0.15);\n",
              "      fill: #174EA6;\n",
              "    }\n",
              "\n",
              "    [theme=dark] .colab-df-convert {\n",
              "      background-color: #3B4455;\n",
              "      fill: #D2E3FC;\n",
              "    }\n",
              "\n",
              "    [theme=dark] .colab-df-convert:hover {\n",
              "      background-color: #434B5C;\n",
              "      box-shadow: 0px 1px 3px 1px rgba(0, 0, 0, 0.15);\n",
              "      filter: drop-shadow(0px 1px 2px rgba(0, 0, 0, 0.3));\n",
              "      fill: #FFFFFF;\n",
              "    }\n",
              "  </style>\n",
              "\n",
              "      <script>\n",
              "        const buttonEl =\n",
              "          document.querySelector('#df-a132ab14-d9ef-414b-8e26-22cd9300115e button.colab-df-convert');\n",
              "        buttonEl.style.display =\n",
              "          google.colab.kernel.accessAllowed ? 'block' : 'none';\n",
              "\n",
              "        async function convertToInteractive(key) {\n",
              "          const element = document.querySelector('#df-a132ab14-d9ef-414b-8e26-22cd9300115e');\n",
              "          const dataTable =\n",
              "            await google.colab.kernel.invokeFunction('convertToInteractive',\n",
              "                                                     [key], {});\n",
              "          if (!dataTable) return;\n",
              "\n",
              "          const docLinkHtml = 'Like what you see? Visit the ' +\n",
              "            '<a target=\"_blank\" href=https://colab.research.google.com/notebooks/data_table.ipynb>data table notebook</a>'\n",
              "            + ' to learn more about interactive tables.';\n",
              "          element.innerHTML = '';\n",
              "          dataTable['output_type'] = 'display_data';\n",
              "          await google.colab.output.renderOutput(dataTable, element);\n",
              "          const docLink = document.createElement('div');\n",
              "          docLink.innerHTML = docLinkHtml;\n",
              "          element.appendChild(docLink);\n",
              "        }\n",
              "      </script>\n",
              "    </div>\n",
              "  </div>\n",
              "  "
            ]
          },
          "metadata": {},
          "execution_count": 70
        }
      ],
      "source": [
        "#df = df.merge(IRX, on = \"Date\")\n",
        "\n",
        "#IRX.columns = IRX.columns.str.replace(\"Close\",\"IRX\")\n",
        "df"
      ]
    },
    {
      "cell_type": "code",
      "execution_count": null,
      "metadata": {
        "colab": {
          "base_uri": "https://localhost:8080/",
          "height": 312
        },
        "id": "g5koiFfjzvae",
        "outputId": "4ca001d1-315c-4179-8891-1f6644a66204"
      },
      "outputs": [
        {
          "output_type": "execute_result",
          "data": {
            "text/plain": [
              "<function matplotlib.pyplot.show(*args, **kw)>"
            ]
          },
          "metadata": {},
          "execution_count": 38
        },
        {
          "output_type": "display_data",
          "data": {
            "text/plain": [
              "<Figure size 432x288 with 1 Axes>"
            ],
            "image/png": "[encoded data removed]"
          },
          "metadata": {
            "needs_background": "light"
          }
        }
      ],
      "source": [
        "#visualize the path of the portfolio stocks\n",
        "title = \"Portfolio CLose Price History\"\n",
        "\n",
        "# Get the stocks\n",
        "my_stocks = df\n",
        "\n",
        "#Create and plot the graph\n",
        "for c in my_stocks.columns.values:\n",
        "  plt.plot(my_stocks[c], label = c)\n",
        "\n",
        "\n",
        "plt.title(title)\n",
        "plt.xlabel(\"Date\")\n",
        "plt.ylabel(\"Adj. Close Price USD($)\")\n",
        "plt.legend(my_stocks.columns.values, loc = \"upper left\")\n",
        "plt.show"
      ]
    },
    {
      "cell_type": "code",
      "source": [
        "df.info()"
      ],
      "metadata": {
        "colab": {
          "base_uri": "https://localhost:8080/"
        },
        "id": "hWnzYDedjfC3",
        "outputId": "200dcdd3-887c-4903-d76a-404f2ad2a758"
      },
      "execution_count": null,
      "outputs": [
        {
          "output_type": "stream",
          "name": "stdout",
          "text": [
            "<class 'pandas.core.frame.DataFrame'>\n",
            "DatetimeIndex: 2509 entries, 2013-01-02 to 2022-12-16\n",
            "Data columns (total 9 columns):\n",
            " #   Column  Non-Null Count  Dtype  \n",
            "---  ------  --------------  -----  \n",
            " 0   META    2509 non-null   float64\n",
            " 1   AAPL    2509 non-null   float64\n",
            " 2   NFLX    2509 non-null   float64\n",
            " 3   GOOG    2509 non-null   float64\n",
            " 4   AIG     2509 non-null   float64\n",
            " 5   QCOM    2509 non-null   float64\n",
            " 6   EMC     2296 non-null   float64\n",
            " 7   FB      0 non-null      float64\n",
            " 8   IRX     164 non-null    float64\n",
            "dtypes: float64(9)\n",
            "memory usage: 196.0 KB\n"
          ]
        }
      ]
    },
    {
      "cell_type": "code",
      "source": [
        "df.describe()"
      ],
      "metadata": {
        "colab": {
          "base_uri": "https://localhost:8080/",
          "height": 300
        },
        "id": "Q41XTpxQuRSF",
        "outputId": "0235ea6a-8218-4958-c71a-89f9b161bab8"
      },
      "execution_count": null,
      "outputs": [
        {
          "output_type": "execute_result",
          "data": {
            "text/plain": [
              "              META         AAPL         NFLX         GOOG          AIG  \\\n",
              "count  2509.000000  2509.000000  2509.000000  2509.000000  2509.000000   \n",
              "mean    155.718796    60.384305   238.868741    59.209914    45.710304   \n",
              "std      84.021339    49.155224   174.518154    35.187895     8.397475   \n",
              "min      22.900000    12.064589    13.144286    17.506132    17.395599   \n",
              "25%      85.879997    24.651932    89.230003    29.954971    40.550194   \n",
              "50%     151.529999    39.226997   189.940002    51.287998    46.907932   \n",
              "75%     194.779999    88.341309   362.149994    73.273003    51.700291   \n",
              "max     382.179993   180.959747   691.690002   150.709000    63.384270   \n",
              "\n",
              "              QCOM           EMC   FB         IRX  \n",
              "count  2509.000000   2296.000000  0.0  164.000000  \n",
              "mean     74.980124  11375.164001  NaN    0.057872  \n",
              "std      37.195644   4772.148058  NaN    0.015015  \n",
              "min      34.695278   3500.439941  NaN    0.037000  \n",
              "25%      49.546322   6125.770020  NaN    0.048000  \n",
              "50%      56.776516  11530.200195  NaN    0.051000  \n",
              "75%      86.021156  14319.799805  NaN    0.066250  \n",
              "max     185.279007  24000.000000  NaN    0.085000  "
            ],
            "text/html": [
              "\n",
              "  <div id=\"df-ac721bcc-c3e3-46fc-80d1-e1128e968c47\">\n",
              "    <div class=\"colab-df-container\">\n",
              "      <div>\n",
              "<style scoped>\n",
              "    .dataframe tbody tr th:only-of-type {\n",
              "        vertical-align: middle;\n",
              "    }\n",
              "\n",
              "    .dataframe tbody tr th {\n",
              "        vertical-align: top;\n",
              "    }\n",
              "\n",
              "    .dataframe thead th {\n",
              "        text-align: right;\n",
              "    }\n",
              "</style>\n",
              "<table border=\"1\" class=\"dataframe\">\n",
              "  <thead>\n",
              "    <tr style=\"text-align: right;\">\n",
              "      <th></th>\n",
              "      <th>META</th>\n",
              "      <th>AAPL</th>\n",
              "      <th>NFLX</th>\n",
              "      <th>GOOG</th>\n",
              "      <th>AIG</th>\n",
              "      <th>QCOM</th>\n",
              "      <th>EMC</th>\n",
              "      <th>FB</th>\n",
              "      <th>IRX</th>\n",
              "    </tr>\n",
              "  </thead>\n",
              "  <tbody>\n",
              "    <tr>\n",
              "      <th>count</th>\n",
              "      <td>2509.000000</td>\n",
              "      <td>2509.000000</td>\n",
              "      <td>2509.000000</td>\n",
              "      <td>2509.000000</td>\n",
              "      <td>2509.000000</td>\n",
              "      <td>2509.000000</td>\n",
              "      <td>2296.000000</td>\n",
              "      <td>0.0</td>\n",
              "      <td>164.000000</td>\n",
              "    </tr>\n",
              "    <tr>\n",
              "      <th>mean</th>\n",
              "      <td>155.718796</td>\n",
              "      <td>60.384305</td>\n",
              "      <td>238.868741</td>\n",
              "      <td>59.209914</td>\n",
              "      <td>45.710304</td>\n",
              "      <td>74.980124</td>\n",
              "      <td>11375.164001</td>\n",
              "      <td>NaN</td>\n",
              "      <td>0.057872</td>\n",
              "    </tr>\n",
              "    <tr>\n",
              "      <th>std</th>\n",
              "      <td>84.021339</td>\n",
              "      <td>49.155224</td>\n",
              "      <td>174.518154</td>\n",
              "      <td>35.187895</td>\n",
              "      <td>8.397475</td>\n",
              "      <td>37.195644</td>\n",
              "      <td>4772.148058</td>\n",
              "      <td>NaN</td>\n",
              "      <td>0.015015</td>\n",
              "    </tr>\n",
              "    <tr>\n",
              "      <th>min</th>\n",
              "      <td>22.900000</td>\n",
              "      <td>12.064589</td>\n",
              "      <td>13.144286</td>\n",
              "      <td>17.506132</td>\n",
              "      <td>17.395599</td>\n",
              "      <td>34.695278</td>\n",
              "      <td>3500.439941</td>\n",
              "      <td>NaN</td>\n",
              "      <td>0.037000</td>\n",
              "    </tr>\n",
              "    <tr>\n",
              "      <th>25%</th>\n",
              "      <td>85.879997</td>\n",
              "      <td>24.651932</td>\n",
              "      <td>89.230003</td>\n",
              "      <td>29.954971</td>\n",
              "      <td>40.550194</td>\n",
              "      <td>49.546322</td>\n",
              "      <td>6125.770020</td>\n",
              "      <td>NaN</td>\n",
              "      <td>0.048000</td>\n",
              "    </tr>\n",
              "    <tr>\n",
              "      <th>50%</th>\n",
              "      <td>151.529999</td>\n",
              "      <td>39.226997</td>\n",
              "      <td>189.940002</td>\n",
              "      <td>51.287998</td>\n",
              "      <td>46.907932</td>\n",
              "      <td>56.776516</td>\n",
              "      <td>11530.200195</td>\n",
              "      <td>NaN</td>\n",
              "      <td>0.051000</td>\n",
              "    </tr>\n",
              "    <tr>\n",
              "      <th>75%</th>\n",
              "      <td>194.779999</td>\n",
              "      <td>88.341309</td>\n",
              "      <td>362.149994</td>\n",
              "      <td>73.273003</td>\n",
              "      <td>51.700291</td>\n",
              "      <td>86.021156</td>\n",
              "      <td>14319.799805</td>\n",
              "      <td>NaN</td>\n",
              "      <td>0.066250</td>\n",
              "    </tr>\n",
              "    <tr>\n",
              "      <th>max</th>\n",
              "      <td>382.179993</td>\n",
              "      <td>180.959747</td>\n",
              "      <td>691.690002</td>\n",
              "      <td>150.709000</td>\n",
              "      <td>63.384270</td>\n",
              "      <td>185.279007</td>\n",
              "      <td>24000.000000</td>\n",
              "      <td>NaN</td>\n",
              "      <td>0.085000</td>\n",
              "    </tr>\n",
              "  </tbody>\n",
              "</table>\n",
              "</div>\n",
              "      <button class=\"colab-df-convert\" onclick=\"convertToInteractive('df-ac721bcc-c3e3-46fc-80d1-e1128e968c47')\"\n",
              "              title=\"Convert this dataframe to an interactive table.\"\n",
              "              style=\"display:none;\">\n",
              "        \n",
              "  <svg xmlns=\"http://www.w3.org/2000/svg\" height=\"24px\"viewBox=\"0 0 24 24\"\n",
              "       width=\"24px\">\n",
              "    <path d=\"M0 0h24v24H0V0z\" fill=\"none\"/>\n",
              "    <path d=\"M18.56 5.44l.94 2.06.94-2.06 2.06-.94-2.06-.94-.94-2.06-.94 2.06-2.06.94zm-11 1L8.5 8.5l.94-2.06 2.06-.94-2.06-.94L8.5 2.5l-.94 2.06-2.06.94zm10 10l.94 2.06.94-2.06 2.06-.94-2.06-.94-.94-2.06-.94 2.06-2.06.94z\"/><path d=\"M17.41 7.96l-1.37-1.37c-.4-.4-.92-.59-1.43-.59-.52 0-1.04.2-1.43.59L10.3 9.45l-7.72 7.72c-.78.78-.78 2.05 0 2.83L4 21.41c.39.39.9.59 1.41.59.51 0 1.02-.2 1.41-.59l7.78-7.78 2.81-2.81c.8-.78.8-2.07 0-2.86zM5.41 20L4 18.59l7.72-7.72 1.47 1.35L5.41 20z\"/>\n",
              "  </svg>\n",
              "      </button>\n",
              "      \n",
              "  <style>\n",
              "    .colab-df-container {\n",
              "      display:flex;\n",
              "      flex-wrap:wrap;\n",
              "      gap: 12px;\n",
              "    }\n",
              "\n",
              "    .colab-df-convert {\n",
              "      background-color: #E8F0FE;\n",
              "      border: none;\n",
              "      border-radius: 50%;\n",
              "      cursor: pointer;\n",
              "      display: none;\n",
              "      fill: #1967D2;\n",
              "      height: 32px;\n",
              "      padding: 0 0 0 0;\n",
              "      width: 32px;\n",
              "    }\n",
              "\n",
              "    .colab-df-convert:hover {\n",
              "      background-color: #E2EBFA;\n",
              "      box-shadow: 0px 1px 2px rgba(60, 64, 67, 0.3), 0px 1px 3px 1px rgba(60, 64, 67, 0.15);\n",
              "      fill: #174EA6;\n",
              "    }\n",
              "\n",
              "    [theme=dark] .colab-df-convert {\n",
              "      background-color: #3B4455;\n",
              "      fill: #D2E3FC;\n",
              "    }\n",
              "\n",
              "    [theme=dark] .colab-df-convert:hover {\n",
              "      background-color: #434B5C;\n",
              "      box-shadow: 0px 1px 3px 1px rgba(0, 0, 0, 0.15);\n",
              "      filter: drop-shadow(0px 1px 2px rgba(0, 0, 0, 0.3));\n",
              "      fill: #FFFFFF;\n",
              "    }\n",
              "  </style>\n",
              "\n",
              "      <script>\n",
              "        const buttonEl =\n",
              "          document.querySelector('#df-ac721bcc-c3e3-46fc-80d1-e1128e968c47 button.colab-df-convert');\n",
              "        buttonEl.style.display =\n",
              "          google.colab.kernel.accessAllowed ? 'block' : 'none';\n",
              "\n",
              "        async function convertToInteractive(key) {\n",
              "          const element = document.querySelector('#df-ac721bcc-c3e3-46fc-80d1-e1128e968c47');\n",
              "          const dataTable =\n",
              "            await google.colab.kernel.invokeFunction('convertToInteractive',\n",
              "                                                     [key], {});\n",
              "          if (!dataTable) return;\n",
              "\n",
              "          const docLinkHtml = 'Like what you see? Visit the ' +\n",
              "            '<a target=\"_blank\" href=https://colab.research.google.com/notebooks/data_table.ipynb>data table notebook</a>'\n",
              "            + ' to learn more about interactive tables.';\n",
              "          element.innerHTML = '';\n",
              "          dataTable['output_type'] = 'display_data';\n",
              "          await google.colab.output.renderOutput(dataTable, element);\n",
              "          const docLink = document.createElement('div');\n",
              "          docLink.innerHTML = docLinkHtml;\n",
              "          element.appendChild(docLink);\n",
              "        }\n",
              "      </script>\n",
              "    </div>\n",
              "  </div>\n",
              "  "
            ]
          },
          "metadata": {},
          "execution_count": 72
        }
      ]
    },
    {
      "cell_type": "code",
      "source": [
        "df.iloc[-500].max()"
      ],
      "metadata": {
        "colab": {
          "base_uri": "https://localhost:8080/"
        },
        "id": "fJyrgQJhXeGA",
        "outputId": "da9ab934-2c34-4f3b-da59-3fc100888a8b"
      },
      "execution_count": null,
      "outputs": [
        {
          "output_type": "execute_result",
          "data": {
            "text/plain": [
              "18600.0"
            ]
          },
          "metadata": {},
          "execution_count": 39
        }
      ]
    },
    {
      "cell_type": "markdown",
      "source": [
        "Here the EMC appears to be an outlier as the returns are significantly higher than other assets. IRX on the otherhand seems to have extremely low values and the number of observation is scarce. FB data seems to be unavailabe, as its ticker changed to META.\n"
      ],
      "metadata": {
        "id": "m15Wr5KNud-C"
      }
    },
    {
      "cell_type": "code",
      "source": [
        "#Finding outliers\n",
        "for i in df.columns:\n",
        "  print(f'{i} = {df[i].iloc[-40]}')"
      ],
      "metadata": {
        "colab": {
          "base_uri": "https://localhost:8080/"
        },
        "id": "-Fr2EgsBYYwt",
        "outputId": "d520e1a3-b16c-4ecb-c688-bb1a1bddff97"
      },
      "execution_count": null,
      "outputs": [
        {
          "output_type": "stream",
          "name": "stdout",
          "text": [
            "META = 130.00999450683594\n",
            "AAPL = 147.02610778808594\n",
            "NFLX = 289.57000732421875\n",
            "GOOG = 101.4800033569336\n",
            "AIG = 52.98190689086914\n",
            "QCOM = 115.00672149658203\n",
            "EMC = nan\n",
            "FB = nan\n",
            "IRX = nan\n"
          ]
        }
      ]
    },
    {
      "cell_type": "code",
      "source": [
        "df = df.drop(['EMC', 'FB', \"IRX\"], axis=1)\n",
        "df"
      ],
      "metadata": {
        "colab": {
          "base_uri": "https://localhost:8080/",
          "height": 455
        },
        "id": "KfuCLx7O4UB_",
        "outputId": "432ee0ec-ba42-48e9-c089-38fe3be68066"
      },
      "execution_count": null,
      "outputs": [
        {
          "output_type": "execute_result",
          "data": {
            "text/plain": [
              "                  META        AAPL        NFLX       GOOG        AIG  \\\n",
              "Date                                                                   \n",
              "2013-01-02   28.000000   16.862829   13.144286  18.013729  29.553606   \n",
              "2013-01-03   27.770000   16.649973   13.798571  18.024191  29.310570   \n",
              "2013-01-04   28.760000   16.186201   13.711429  18.380356  29.407784   \n",
              "2013-01-07   29.420000   16.090988   14.171429  18.300158  29.108034   \n",
              "2013-01-08   29.059999   16.134289   13.880000  18.264042  28.881193   \n",
              "...                ...         ...         ...        ...        ...   \n",
              "2022-12-12  114.709999  144.490005  315.179993  93.559998  63.190250   \n",
              "2022-12-13  120.150002  145.470001  320.339996  95.849998  63.240002   \n",
              "2022-12-14  121.589996  143.210007  317.829987  95.309998  62.660000   \n",
              "2022-12-15  116.150002  136.500000  290.410004  91.199997  62.209999   \n",
              "2022-12-16  119.430000  134.509995  290.709991  90.860001  62.570000   \n",
              "\n",
              "                  QCOM  \n",
              "Date                    \n",
              "2013-01-02   48.689091  \n",
              "2013-01-03   48.463509  \n",
              "2013-01-04   47.749142  \n",
              "2013-01-07   48.132652  \n",
              "2013-01-08   48.057465  \n",
              "...                ...  \n",
              "2022-12-12  121.209999  \n",
              "2022-12-13  123.489998  \n",
              "2022-12-14  121.709999  \n",
              "2022-12-15  116.639999  \n",
              "2022-12-16  114.529999  \n",
              "\n",
              "[2509 rows x 6 columns]"
            ],
            "text/html": [
              "\n",
              "  <div id=\"df-22643894-c5ed-4ef3-96f3-ac36ab391163\">\n",
              "    <div class=\"colab-df-container\">\n",
              "      <div>\n",
              "<style scoped>\n",
              "    .dataframe tbody tr th:only-of-type {\n",
              "        vertical-align: middle;\n",
              "    }\n",
              "\n",
              "    .dataframe tbody tr th {\n",
              "        vertical-align: top;\n",
              "    }\n",
              "\n",
              "    .dataframe thead th {\n",
              "        text-align: right;\n",
              "    }\n",
              "</style>\n",
              "<table border=\"1\" class=\"dataframe\">\n",
              "  <thead>\n",
              "    <tr style=\"text-align: right;\">\n",
              "      <th></th>\n",
              "      <th>META</th>\n",
              "      <th>AAPL</th>\n",
              "      <th>NFLX</th>\n",
              "      <th>GOOG</th>\n",
              "      <th>AIG</th>\n",
              "      <th>QCOM</th>\n",
              "    </tr>\n",
              "    <tr>\n",
              "      <th>Date</th>\n",
              "      <th></th>\n",
              "      <th></th>\n",
              "      <th></th>\n",
              "      <th></th>\n",
              "      <th></th>\n",
              "      <th></th>\n",
              "    </tr>\n",
              "  </thead>\n",
              "  <tbody>\n",
              "    <tr>\n",
              "      <th>2013-01-02</th>\n",
              "      <td>28.000000</td>\n",
              "      <td>16.862829</td>\n",
              "      <td>13.144286</td>\n",
              "      <td>18.013729</td>\n",
              "      <td>29.553606</td>\n",
              "      <td>48.689091</td>\n",
              "    </tr>\n",
              "    <tr>\n",
              "      <th>2013-01-03</th>\n",
              "      <td>27.770000</td>\n",
              "      <td>16.649973</td>\n",
              "      <td>13.798571</td>\n",
              "      <td>18.024191</td>\n",
              "      <td>29.310570</td>\n",
              "      <td>48.463509</td>\n",
              "    </tr>\n",
              "    <tr>\n",
              "      <th>2013-01-04</th>\n",
              "      <td>28.760000</td>\n",
              "      <td>16.186201</td>\n",
              "      <td>13.711429</td>\n",
              "      <td>18.380356</td>\n",
              "      <td>29.407784</td>\n",
              "      <td>47.749142</td>\n",
              "    </tr>\n",
              "    <tr>\n",
              "      <th>2013-01-07</th>\n",
              "      <td>29.420000</td>\n",
              "      <td>16.090988</td>\n",
              "      <td>14.171429</td>\n",
              "      <td>18.300158</td>\n",
              "      <td>29.108034</td>\n",
              "      <td>48.132652</td>\n",
              "    </tr>\n",
              "    <tr>\n",
              "      <th>2013-01-08</th>\n",
              "      <td>29.059999</td>\n",
              "      <td>16.134289</td>\n",
              "      <td>13.880000</td>\n",
              "      <td>18.264042</td>\n",
              "      <td>28.881193</td>\n",
              "      <td>48.057465</td>\n",
              "    </tr>\n",
              "    <tr>\n",
              "      <th>...</th>\n",
              "      <td>...</td>\n",
              "      <td>...</td>\n",
              "      <td>...</td>\n",
              "      <td>...</td>\n",
              "      <td>...</td>\n",
              "      <td>...</td>\n",
              "    </tr>\n",
              "    <tr>\n",
              "      <th>2022-12-12</th>\n",
              "      <td>114.709999</td>\n",
              "      <td>144.490005</td>\n",
              "      <td>315.179993</td>\n",
              "      <td>93.559998</td>\n",
              "      <td>63.190250</td>\n",
              "      <td>121.209999</td>\n",
              "    </tr>\n",
              "    <tr>\n",
              "      <th>2022-12-13</th>\n",
              "      <td>120.150002</td>\n",
              "      <td>145.470001</td>\n",
              "      <td>320.339996</td>\n",
              "      <td>95.849998</td>\n",
              "      <td>63.240002</td>\n",
              "      <td>123.489998</td>\n",
              "    </tr>\n",
              "    <tr>\n",
              "      <th>2022-12-14</th>\n",
              "      <td>121.589996</td>\n",
              "      <td>143.210007</td>\n",
              "      <td>317.829987</td>\n",
              "      <td>95.309998</td>\n",
              "      <td>62.660000</td>\n",
              "      <td>121.709999</td>\n",
              "    </tr>\n",
              "    <tr>\n",
              "      <th>2022-12-15</th>\n",
              "      <td>116.150002</td>\n",
              "      <td>136.500000</td>\n",
              "      <td>290.410004</td>\n",
              "      <td>91.199997</td>\n",
              "      <td>62.209999</td>\n",
              "      <td>116.639999</td>\n",
              "    </tr>\n",
              "    <tr>\n",
              "      <th>2022-12-16</th>\n",
              "      <td>119.430000</td>\n",
              "      <td>134.509995</td>\n",
              "      <td>290.709991</td>\n",
              "      <td>90.860001</td>\n",
              "      <td>62.570000</td>\n",
              "      <td>114.529999</td>\n",
              "    </tr>\n",
              "  </tbody>\n",
              "</table>\n",
              "<p>2509 rows × 6 columns</p>\n",
              "</div>\n",
              "      <button class=\"colab-df-convert\" onclick=\"convertToInteractive('df-22643894-c5ed-4ef3-96f3-ac36ab391163')\"\n",
              "              title=\"Convert this dataframe to an interactive table.\"\n",
              "              style=\"display:none;\">\n",
              "        \n",
              "  <svg xmlns=\"http://www.w3.org/2000/svg\" height=\"24px\"viewBox=\"0 0 24 24\"\n",
              "       width=\"24px\">\n",
              "    <path d=\"M0 0h24v24H0V0z\" fill=\"none\"/>\n",
              "    <path d=\"M18.56 5.44l.94 2.06.94-2.06 2.06-.94-2.06-.94-.94-2.06-.94 2.06-2.06.94zm-11 1L8.5 8.5l.94-2.06 2.06-.94-2.06-.94L8.5 2.5l-.94 2.06-2.06.94zm10 10l.94 2.06.94-2.06 2.06-.94-2.06-.94-.94-2.06-.94 2.06-2.06.94z\"/><path d=\"M17.41 7.96l-1.37-1.37c-.4-.4-.92-.59-1.43-.59-.52 0-1.04.2-1.43.59L10.3 9.45l-7.72 7.72c-.78.78-.78 2.05 0 2.83L4 21.41c.39.39.9.59 1.41.59.51 0 1.02-.2 1.41-.59l7.78-7.78 2.81-2.81c.8-.78.8-2.07 0-2.86zM5.41 20L4 18.59l7.72-7.72 1.47 1.35L5.41 20z\"/>\n",
              "  </svg>\n",
              "      </button>\n",
              "      \n",
              "  <style>\n",
              "    .colab-df-container {\n",
              "      display:flex;\n",
              "      flex-wrap:wrap;\n",
              "      gap: 12px;\n",
              "    }\n",
              "\n",
              "    .colab-df-convert {\n",
              "      background-color: #E8F0FE;\n",
              "      border: none;\n",
              "      border-radius: 50%;\n",
              "      cursor: pointer;\n",
              "      display: none;\n",
              "      fill: #1967D2;\n",
              "      height: 32px;\n",
              "      padding: 0 0 0 0;\n",
              "      width: 32px;\n",
              "    }\n",
              "\n",
              "    .colab-df-convert:hover {\n",
              "      background-color: #E2EBFA;\n",
              "      box-shadow: 0px 1px 2px rgba(60, 64, 67, 0.3), 0px 1px 3px 1px rgba(60, 64, 67, 0.15);\n",
              "      fill: #174EA6;\n",
              "    }\n",
              "\n",
              "    [theme=dark] .colab-df-convert {\n",
              "      background-color: #3B4455;\n",
              "      fill: #D2E3FC;\n",
              "    }\n",
              "\n",
              "    [theme=dark] .colab-df-convert:hover {\n",
              "      background-color: #434B5C;\n",
              "      box-shadow: 0px 1px 3px 1px rgba(0, 0, 0, 0.15);\n",
              "      filter: drop-shadow(0px 1px 2px rgba(0, 0, 0, 0.3));\n",
              "      fill: #FFFFFF;\n",
              "    }\n",
              "  </style>\n",
              "\n",
              "      <script>\n",
              "        const buttonEl =\n",
              "          document.querySelector('#df-22643894-c5ed-4ef3-96f3-ac36ab391163 button.colab-df-convert');\n",
              "        buttonEl.style.display =\n",
              "          google.colab.kernel.accessAllowed ? 'block' : 'none';\n",
              "\n",
              "        async function convertToInteractive(key) {\n",
              "          const element = document.querySelector('#df-22643894-c5ed-4ef3-96f3-ac36ab391163');\n",
              "          const dataTable =\n",
              "            await google.colab.kernel.invokeFunction('convertToInteractive',\n",
              "                                                     [key], {});\n",
              "          if (!dataTable) return;\n",
              "\n",
              "          const docLinkHtml = 'Like what you see? Visit the ' +\n",
              "            '<a target=\"_blank\" href=https://colab.research.google.com/notebooks/data_table.ipynb>data table notebook</a>'\n",
              "            + ' to learn more about interactive tables.';\n",
              "          element.innerHTML = '';\n",
              "          dataTable['output_type'] = 'display_data';\n",
              "          await google.colab.output.renderOutput(dataTable, element);\n",
              "          const docLink = document.createElement('div');\n",
              "          docLink.innerHTML = docLinkHtml;\n",
              "          element.appendChild(docLink);\n",
              "        }\n",
              "      </script>\n",
              "    </div>\n",
              "  </div>\n",
              "  "
            ]
          },
          "metadata": {},
          "execution_count": 41
        }
      ]
    },
    {
      "cell_type": "markdown",
      "source": [
        "Without outliers"
      ],
      "metadata": {
        "id": "_8JdydaOvO4Q"
      }
    },
    {
      "cell_type": "code",
      "source": [
        "#visualize the path of the portfolio stocks\n",
        "title = \"Portfolio CLose Price History\"\n",
        "\n",
        "# Get the stocks\n",
        "my_stocks = df\n",
        "\n",
        "#Create and plot the graph\n",
        "for c in my_stocks.columns.values:\n",
        "  plt.plot(my_stocks[c], label = c)\n",
        "\n",
        "\n",
        "plt.title(title)\n",
        "plt.xlabel(\"Date\")\n",
        "plt.ylabel(\"Adj. Close Price USD($)\")\n",
        "#plt.legend(my_stocks.columns.values, loc = \"upper left\")\n",
        "plt.show"
      ],
      "metadata": {
        "colab": {
          "base_uri": "https://localhost:8080/",
          "height": 312
        },
        "id": "I6Cp5de0aJQZ",
        "outputId": "ef75a278-fd7b-4665-ae3b-aa707bb70bb6"
      },
      "execution_count": null,
      "outputs": [
        {
          "output_type": "execute_result",
          "data": {
            "text/plain": [
              "<function matplotlib.pyplot.show(*args, **kw)>"
            ]
          },
          "metadata": {},
          "execution_count": 42
        },
        {
          "output_type": "display_data",
          "data": {
            "text/plain": [
              "<Figure size 432x288 with 1 Axes>"
            ],
            "image/png": "[encoded data removed]"
          },
          "metadata": {
            "needs_background": "light"
          }
        }
      ]
    },
    {
      "cell_type": "markdown",
      "source": [
        "Creating equal weights using numpy array"
      ],
      "metadata": {
        "id": "NfOqCTbdvR8F"
      }
    },
    {
      "cell_type": "code",
      "execution_count": null,
      "metadata": {
        "id": "xdyZIjAF1k2l",
        "colab": {
          "base_uri": "https://localhost:8080/"
        },
        "outputId": "092a680a-f22b-44b3-ae74-8c472f954d70"
      },
      "outputs": [
        {
          "output_type": "execute_result",
          "data": {
            "text/plain": [
              "array([0.11111111, 0.11111111, 0.11111111, 0.11111111, 0.11111111,\n",
              "       0.11111111, 0.11111111, 0.11111111, 0.11111111])"
            ]
          },
          "metadata": {},
          "execution_count": 73
        }
      ],
      "source": [
        "#The sum of the entire weights should be 1\n",
        "weights = np.array([1/(len(df.columns))]*(len(df.columns)))\n",
        "weights"
      ]
    },
    {
      "cell_type": "code",
      "execution_count": null,
      "metadata": {
        "colab": {
          "base_uri": "https://localhost:8080/",
          "height": 455
        },
        "id": "PBwazTeV00o6",
        "outputId": "9a426e88-0805-4fc2-ba19-090878d6ecb1"
      },
      "outputs": [
        {
          "output_type": "execute_result",
          "data": {
            "text/plain": [
              "                META      AAPL      NFLX      GOOG       AIG      QCOM\n",
              "Date                                                                  \n",
              "2013-01-02       NaN       NaN       NaN       NaN       NaN       NaN\n",
              "2013-01-03 -0.008214 -0.012623  0.049777  0.000581 -0.008224 -0.004633\n",
              "2013-01-04  0.035650 -0.027854 -0.006315  0.019760  0.003317 -0.014740\n",
              "2013-01-07  0.022949 -0.005882  0.033549 -0.004363 -0.010193  0.008032\n",
              "2013-01-08 -0.012237  0.002691 -0.020565 -0.001974 -0.007793 -0.001562\n",
              "...              ...       ...       ...       ...       ...       ...\n",
              "2022-12-12 -0.010267  0.016390 -0.015093  0.005265  0.015997  0.018144\n",
              "2022-12-13  0.047424  0.006782  0.016372  0.024476  0.000787  0.018810\n",
              "2022-12-14  0.011985 -0.015536 -0.007835 -0.005634 -0.009171 -0.014414\n",
              "2022-12-15 -0.044740 -0.046854 -0.086272 -0.043122 -0.007182 -0.041656\n",
              "2022-12-16  0.028239 -0.014579  0.001033 -0.003728  0.005787 -0.018090\n",
              "\n",
              "[2509 rows x 6 columns]"
            ],
            "text/html": [
              "\n",
              "  <div id=\"df-9187f181-cd44-4cce-8eec-bf82a6f330aa\">\n",
              "    <div class=\"colab-df-container\">\n",
              "      <div>\n",
              "<style scoped>\n",
              "    .dataframe tbody tr th:only-of-type {\n",
              "        vertical-align: middle;\n",
              "    }\n",
              "\n",
              "    .dataframe tbody tr th {\n",
              "        vertical-align: top;\n",
              "    }\n",
              "\n",
              "    .dataframe thead th {\n",
              "        text-align: right;\n",
              "    }\n",
              "</style>\n",
              "<table border=\"1\" class=\"dataframe\">\n",
              "  <thead>\n",
              "    <tr style=\"text-align: right;\">\n",
              "      <th></th>\n",
              "      <th>META</th>\n",
              "      <th>AAPL</th>\n",
              "      <th>NFLX</th>\n",
              "      <th>GOOG</th>\n",
              "      <th>AIG</th>\n",
              "      <th>QCOM</th>\n",
              "    </tr>\n",
              "    <tr>\n",
              "      <th>Date</th>\n",
              "      <th></th>\n",
              "      <th></th>\n",
              "      <th></th>\n",
              "      <th></th>\n",
              "      <th></th>\n",
              "      <th></th>\n",
              "    </tr>\n",
              "  </thead>\n",
              "  <tbody>\n",
              "    <tr>\n",
              "      <th>2013-01-02</th>\n",
              "      <td>NaN</td>\n",
              "      <td>NaN</td>\n",
              "      <td>NaN</td>\n",
              "      <td>NaN</td>\n",
              "      <td>NaN</td>\n",
              "      <td>NaN</td>\n",
              "    </tr>\n",
              "    <tr>\n",
              "      <th>2013-01-03</th>\n",
              "      <td>-0.008214</td>\n",
              "      <td>-0.012623</td>\n",
              "      <td>0.049777</td>\n",
              "      <td>0.000581</td>\n",
              "      <td>-0.008224</td>\n",
              "      <td>-0.004633</td>\n",
              "    </tr>\n",
              "    <tr>\n",
              "      <th>2013-01-04</th>\n",
              "      <td>0.035650</td>\n",
              "      <td>-0.027854</td>\n",
              "      <td>-0.006315</td>\n",
              "      <td>0.019760</td>\n",
              "      <td>0.003317</td>\n",
              "      <td>-0.014740</td>\n",
              "    </tr>\n",
              "    <tr>\n",
              "      <th>2013-01-07</th>\n",
              "      <td>0.022949</td>\n",
              "      <td>-0.005882</td>\n",
              "      <td>0.033549</td>\n",
              "      <td>-0.004363</td>\n",
              "      <td>-0.010193</td>\n",
              "      <td>0.008032</td>\n",
              "    </tr>\n",
              "    <tr>\n",
              "      <th>2013-01-08</th>\n",
              "      <td>-0.012237</td>\n",
              "      <td>0.002691</td>\n",
              "      <td>-0.020565</td>\n",
              "      <td>-0.001974</td>\n",
              "      <td>-0.007793</td>\n",
              "      <td>-0.001562</td>\n",
              "    </tr>\n",
              "    <tr>\n",
              "      <th>...</th>\n",
              "      <td>...</td>\n",
              "      <td>...</td>\n",
              "      <td>...</td>\n",
              "      <td>...</td>\n",
              "      <td>...</td>\n",
              "      <td>...</td>\n",
              "    </tr>\n",
              "    <tr>\n",
              "      <th>2022-12-12</th>\n",
              "      <td>-0.010267</td>\n",
              "      <td>0.016390</td>\n",
              "      <td>-0.015093</td>\n",
              "      <td>0.005265</td>\n",
              "      <td>0.015997</td>\n",
              "      <td>0.018144</td>\n",
              "    </tr>\n",
              "    <tr>\n",
              "      <th>2022-12-13</th>\n",
              "      <td>0.047424</td>\n",
              "      <td>0.006782</td>\n",
              "      <td>0.016372</td>\n",
              "      <td>0.024476</td>\n",
              "      <td>0.000787</td>\n",
              "      <td>0.018810</td>\n",
              "    </tr>\n",
              "    <tr>\n",
              "      <th>2022-12-14</th>\n",
              "      <td>0.011985</td>\n",
              "      <td>-0.015536</td>\n",
              "      <td>-0.007835</td>\n",
              "      <td>-0.005634</td>\n",
              "      <td>-0.009171</td>\n",
              "      <td>-0.014414</td>\n",
              "    </tr>\n",
              "    <tr>\n",
              "      <th>2022-12-15</th>\n",
              "      <td>-0.044740</td>\n",
              "      <td>-0.046854</td>\n",
              "      <td>-0.086272</td>\n",
              "      <td>-0.043122</td>\n",
              "      <td>-0.007182</td>\n",
              "      <td>-0.041656</td>\n",
              "    </tr>\n",
              "    <tr>\n",
              "      <th>2022-12-16</th>\n",
              "      <td>0.028239</td>\n",
              "      <td>-0.014579</td>\n",
              "      <td>0.001033</td>\n",
              "      <td>-0.003728</td>\n",
              "      <td>0.005787</td>\n",
              "      <td>-0.018090</td>\n",
              "    </tr>\n",
              "  </tbody>\n",
              "</table>\n",
              "<p>2509 rows × 6 columns</p>\n",
              "</div>\n",
              "      <button class=\"colab-df-convert\" onclick=\"convertToInteractive('df-9187f181-cd44-4cce-8eec-bf82a6f330aa')\"\n",
              "              title=\"Convert this dataframe to an interactive table.\"\n",
              "              style=\"display:none;\">\n",
              "        \n",
              "  <svg xmlns=\"http://www.w3.org/2000/svg\" height=\"24px\"viewBox=\"0 0 24 24\"\n",
              "       width=\"24px\">\n",
              "    <path d=\"M0 0h24v24H0V0z\" fill=\"none\"/>\n",
              "    <path d=\"M18.56 5.44l.94 2.06.94-2.06 2.06-.94-2.06-.94-.94-2.06-.94 2.06-2.06.94zm-11 1L8.5 8.5l.94-2.06 2.06-.94-2.06-.94L8.5 2.5l-.94 2.06-2.06.94zm10 10l.94 2.06.94-2.06 2.06-.94-2.06-.94-.94-2.06-.94 2.06-2.06.94z\"/><path d=\"M17.41 7.96l-1.37-1.37c-.4-.4-.92-.59-1.43-.59-.52 0-1.04.2-1.43.59L10.3 9.45l-7.72 7.72c-.78.78-.78 2.05 0 2.83L4 21.41c.39.39.9.59 1.41.59.51 0 1.02-.2 1.41-.59l7.78-7.78 2.81-2.81c.8-.78.8-2.07 0-2.86zM5.41 20L4 18.59l7.72-7.72 1.47 1.35L5.41 20z\"/>\n",
              "  </svg>\n",
              "      </button>\n",
              "      \n",
              "  <style>\n",
              "    .colab-df-container {\n",
              "      display:flex;\n",
              "      flex-wrap:wrap;\n",
              "      gap: 12px;\n",
              "    }\n",
              "\n",
              "    .colab-df-convert {\n",
              "      background-color: #E8F0FE;\n",
              "      border: none;\n",
              "      border-radius: 50%;\n",
              "      cursor: pointer;\n",
              "      display: none;\n",
              "      fill: #1967D2;\n",
              "      height: 32px;\n",
              "      padding: 0 0 0 0;\n",
              "      width: 32px;\n",
              "    }\n",
              "\n",
              "    .colab-df-convert:hover {\n",
              "      background-color: #E2EBFA;\n",
              "      box-shadow: 0px 1px 2px rgba(60, 64, 67, 0.3), 0px 1px 3px 1px rgba(60, 64, 67, 0.15);\n",
              "      fill: #174EA6;\n",
              "    }\n",
              "\n",
              "    [theme=dark] .colab-df-convert {\n",
              "      background-color: #3B4455;\n",
              "      fill: #D2E3FC;\n",
              "    }\n",
              "\n",
              "    [theme=dark] .colab-df-convert:hover {\n",
              "      background-color: #434B5C;\n",
              "      box-shadow: 0px 1px 3px 1px rgba(0, 0, 0, 0.15);\n",
              "      filter: drop-shadow(0px 1px 2px rgba(0, 0, 0, 0.3));\n",
              "      fill: #FFFFFF;\n",
              "    }\n",
              "  </style>\n",
              "\n",
              "      <script>\n",
              "        const buttonEl =\n",
              "          document.querySelector('#df-9187f181-cd44-4cce-8eec-bf82a6f330aa button.colab-df-convert');\n",
              "        buttonEl.style.display =\n",
              "          google.colab.kernel.accessAllowed ? 'block' : 'none';\n",
              "\n",
              "        async function convertToInteractive(key) {\n",
              "          const element = document.querySelector('#df-9187f181-cd44-4cce-8eec-bf82a6f330aa');\n",
              "          const dataTable =\n",
              "            await google.colab.kernel.invokeFunction('convertToInteractive',\n",
              "                                                     [key], {});\n",
              "          if (!dataTable) return;\n",
              "\n",
              "          const docLinkHtml = 'Like what you see? Visit the ' +\n",
              "            '<a target=\"_blank\" href=https://colab.research.google.com/notebooks/data_table.ipynb>data table notebook</a>'\n",
              "            + ' to learn more about interactive tables.';\n",
              "          element.innerHTML = '';\n",
              "          dataTable['output_type'] = 'display_data';\n",
              "          await google.colab.output.renderOutput(dataTable, element);\n",
              "          const docLink = document.createElement('div');\n",
              "          docLink.innerHTML = docLinkHtml;\n",
              "          element.appendChild(docLink);\n",
              "        }\n",
              "      </script>\n",
              "    </div>\n",
              "  </div>\n",
              "  "
            ]
          },
          "metadata": {},
          "execution_count": 44
        }
      ],
      "source": [
        "#Show the daily simple return\n",
        "returns = df.pct_change()\n",
        "returns \n"
      ]
    },
    {
      "cell_type": "markdown",
      "source": [
        "Graph of the returns"
      ],
      "metadata": {
        "id": "SNZB6dkKvety"
      }
    },
    {
      "cell_type": "code",
      "source": [
        "#visualize the path of the portfolio stocks\n",
        "title = \"Portfolio CLose Price History\"\n",
        "\n",
        "# Get the stocks returns\n",
        "my_stocks = returns\n",
        "\n",
        "#Create and plot the graph\n",
        "for c in my_stocks.columns.values:\n",
        "  plt.plot(my_stocks[c], label = c)\n",
        "\n",
        "\n",
        "plt.title(title)\n",
        "plt.xlabel(\"Date\")\n",
        "plt.ylabel(\"Adj. Close Price USD($)\")\n",
        "#plt.legend(my_stocks.columns.values, loc = \"upper left\")\n",
        "plt.show"
      ],
      "metadata": {
        "colab": {
          "base_uri": "https://localhost:8080/",
          "height": 312
        },
        "id": "PulUHTiYnfFh",
        "outputId": "0e41e55d-536e-4ebe-afd7-4cbf8e183389"
      },
      "execution_count": null,
      "outputs": [
        {
          "output_type": "execute_result",
          "data": {
            "text/plain": [
              "<function matplotlib.pyplot.show(*args, **kw)>"
            ]
          },
          "metadata": {},
          "execution_count": 45
        },
        {
          "output_type": "display_data",
          "data": {
            "text/plain": [
              "<Figure size 432x288 with 1 Axes>"
            ],
            "image/png": "[encoded data removed]"
          },
          "metadata": {
            "needs_background": "light"
          }
        }
      ]
    },
    {
      "cell_type": "markdown",
      "source": [
        "The returns seems to be mean reverting, like interest rate, which is a good characteristic for time series modelling"
      ],
      "metadata": {
        "id": "KuZ-AXdOvkhq"
      }
    },
    {
      "cell_type": "code",
      "source": [
        "#Create and show the annualized covariance matrix\n",
        "cov_matrix_annual = returns.cov() * 252\n",
        "\n",
        "cov_matrix_annual"
      ],
      "metadata": {
        "colab": {
          "base_uri": "https://localhost:8080/",
          "height": 237
        },
        "id": "YlzCcpd7caQB",
        "outputId": "34c1d8a5-6d94-44c5-a383-fd5b570b8362"
      },
      "execution_count": null,
      "outputs": [
        {
          "output_type": "execute_result",
          "data": {
            "text/plain": [
              "          META      AAPL      NFLX      GOOG       AIG      QCOM\n",
              "META  0.145239  0.053143  0.074954  0.061371  0.036572  0.049842\n",
              "AAPL  0.053143  0.084424  0.043600  0.044986  0.033257  0.051322\n",
              "NFLX  0.074954  0.043600  0.228294  0.056222  0.028474  0.048684\n",
              "GOOG  0.061371  0.044986  0.056222  0.073490  0.035048  0.045233\n",
              "AIG   0.036572  0.033257  0.028474  0.035048  0.101715  0.038510\n",
              "QCOM  0.049842  0.051322  0.048684  0.045233  0.038510  0.118393"
            ],
            "text/html": [
              "\n",
              "  <div id=\"df-e8040e73-862c-45e4-a408-6e742d3a1cea\">\n",
              "    <div class=\"colab-df-container\">\n",
              "      <div>\n",
              "<style scoped>\n",
              "    .dataframe tbody tr th:only-of-type {\n",
              "        vertical-align: middle;\n",
              "    }\n",
              "\n",
              "    .dataframe tbody tr th {\n",
              "        vertical-align: top;\n",
              "    }\n",
              "\n",
              "    .dataframe thead th {\n",
              "        text-align: right;\n",
              "    }\n",
              "</style>\n",
              "<table border=\"1\" class=\"dataframe\">\n",
              "  <thead>\n",
              "    <tr style=\"text-align: right;\">\n",
              "      <th></th>\n",
              "      <th>META</th>\n",
              "      <th>AAPL</th>\n",
              "      <th>NFLX</th>\n",
              "      <th>GOOG</th>\n",
              "      <th>AIG</th>\n",
              "      <th>QCOM</th>\n",
              "    </tr>\n",
              "  </thead>\n",
              "  <tbody>\n",
              "    <tr>\n",
              "      <th>META</th>\n",
              "      <td>0.145239</td>\n",
              "      <td>0.053143</td>\n",
              "      <td>0.074954</td>\n",
              "      <td>0.061371</td>\n",
              "      <td>0.036572</td>\n",
              "      <td>0.049842</td>\n",
              "    </tr>\n",
              "    <tr>\n",
              "      <th>AAPL</th>\n",
              "      <td>0.053143</td>\n",
              "      <td>0.084424</td>\n",
              "      <td>0.043600</td>\n",
              "      <td>0.044986</td>\n",
              "      <td>0.033257</td>\n",
              "      <td>0.051322</td>\n",
              "    </tr>\n",
              "    <tr>\n",
              "      <th>NFLX</th>\n",
              "      <td>0.074954</td>\n",
              "      <td>0.043600</td>\n",
              "      <td>0.228294</td>\n",
              "      <td>0.056222</td>\n",
              "      <td>0.028474</td>\n",
              "      <td>0.048684</td>\n",
              "    </tr>\n",
              "    <tr>\n",
              "      <th>GOOG</th>\n",
              "      <td>0.061371</td>\n",
              "      <td>0.044986</td>\n",
              "      <td>0.056222</td>\n",
              "      <td>0.073490</td>\n",
              "      <td>0.035048</td>\n",
              "      <td>0.045233</td>\n",
              "    </tr>\n",
              "    <tr>\n",
              "      <th>AIG</th>\n",
              "      <td>0.036572</td>\n",
              "      <td>0.033257</td>\n",
              "      <td>0.028474</td>\n",
              "      <td>0.035048</td>\n",
              "      <td>0.101715</td>\n",
              "      <td>0.038510</td>\n",
              "    </tr>\n",
              "    <tr>\n",
              "      <th>QCOM</th>\n",
              "      <td>0.049842</td>\n",
              "      <td>0.051322</td>\n",
              "      <td>0.048684</td>\n",
              "      <td>0.045233</td>\n",
              "      <td>0.038510</td>\n",
              "      <td>0.118393</td>\n",
              "    </tr>\n",
              "  </tbody>\n",
              "</table>\n",
              "</div>\n",
              "      <button class=\"colab-df-convert\" onclick=\"convertToInteractive('df-e8040e73-862c-45e4-a408-6e742d3a1cea')\"\n",
              "              title=\"Convert this dataframe to an interactive table.\"\n",
              "              style=\"display:none;\">\n",
              "        \n",
              "  <svg xmlns=\"http://www.w3.org/2000/svg\" height=\"24px\"viewBox=\"0 0 24 24\"\n",
              "       width=\"24px\">\n",
              "    <path d=\"M0 0h24v24H0V0z\" fill=\"none\"/>\n",
              "    <path d=\"M18.56 5.44l.94 2.06.94-2.06 2.06-.94-2.06-.94-.94-2.06-.94 2.06-2.06.94zm-11 1L8.5 8.5l.94-2.06 2.06-.94-2.06-.94L8.5 2.5l-.94 2.06-2.06.94zm10 10l.94 2.06.94-2.06 2.06-.94-2.06-.94-.94-2.06-.94 2.06-2.06.94z\"/><path d=\"M17.41 7.96l-1.37-1.37c-.4-.4-.92-.59-1.43-.59-.52 0-1.04.2-1.43.59L10.3 9.45l-7.72 7.72c-.78.78-.78 2.05 0 2.83L4 21.41c.39.39.9.59 1.41.59.51 0 1.02-.2 1.41-.59l7.78-7.78 2.81-2.81c.8-.78.8-2.07 0-2.86zM5.41 20L4 18.59l7.72-7.72 1.47 1.35L5.41 20z\"/>\n",
              "  </svg>\n",
              "      </button>\n",
              "      \n",
              "  <style>\n",
              "    .colab-df-container {\n",
              "      display:flex;\n",
              "      flex-wrap:wrap;\n",
              "      gap: 12px;\n",
              "    }\n",
              "\n",
              "    .colab-df-convert {\n",
              "      background-color: #E8F0FE;\n",
              "      border: none;\n",
              "      border-radius: 50%;\n",
              "      cursor: pointer;\n",
              "      display: none;\n",
              "      fill: #1967D2;\n",
              "      height: 32px;\n",
              "      padding: 0 0 0 0;\n",
              "      width: 32px;\n",
              "    }\n",
              "\n",
              "    .colab-df-convert:hover {\n",
              "      background-color: #E2EBFA;\n",
              "      box-shadow: 0px 1px 2px rgba(60, 64, 67, 0.3), 0px 1px 3px 1px rgba(60, 64, 67, 0.15);\n",
              "      fill: #174EA6;\n",
              "    }\n",
              "\n",
              "    [theme=dark] .colab-df-convert {\n",
              "      background-color: #3B4455;\n",
              "      fill: #D2E3FC;\n",
              "    }\n",
              "\n",
              "    [theme=dark] .colab-df-convert:hover {\n",
              "      background-color: #434B5C;\n",
              "      box-shadow: 0px 1px 3px 1px rgba(0, 0, 0, 0.15);\n",
              "      filter: drop-shadow(0px 1px 2px rgba(0, 0, 0, 0.3));\n",
              "      fill: #FFFFFF;\n",
              "    }\n",
              "  </style>\n",
              "\n",
              "      <script>\n",
              "        const buttonEl =\n",
              "          document.querySelector('#df-e8040e73-862c-45e4-a408-6e742d3a1cea button.colab-df-convert');\n",
              "        buttonEl.style.display =\n",
              "          google.colab.kernel.accessAllowed ? 'block' : 'none';\n",
              "\n",
              "        async function convertToInteractive(key) {\n",
              "          const element = document.querySelector('#df-e8040e73-862c-45e4-a408-6e742d3a1cea');\n",
              "          const dataTable =\n",
              "            await google.colab.kernel.invokeFunction('convertToInteractive',\n",
              "                                                     [key], {});\n",
              "          if (!dataTable) return;\n",
              "\n",
              "          const docLinkHtml = 'Like what you see? Visit the ' +\n",
              "            '<a target=\"_blank\" href=https://colab.research.google.com/notebooks/data_table.ipynb>data table notebook</a>'\n",
              "            + ' to learn more about interactive tables.';\n",
              "          element.innerHTML = '';\n",
              "          dataTable['output_type'] = 'display_data';\n",
              "          await google.colab.output.renderOutput(dataTable, element);\n",
              "          const docLink = document.createElement('div');\n",
              "          docLink.innerHTML = docLinkHtml;\n",
              "          element.appendChild(docLink);\n",
              "        }\n",
              "      </script>\n",
              "    </div>\n",
              "  </div>\n",
              "  "
            ]
          },
          "metadata": {},
          "execution_count": 46
        }
      ]
    },
    {
      "cell_type": "code",
      "source": [],
      "metadata": {
        "id": "4W83VBepWWzQ"
      },
      "execution_count": null,
      "outputs": []
    },
    {
      "cell_type": "code",
      "source": [
        "# compute correlation matrix\n",
        "my_cmap = sns.diverging_palette(100, 220, sep=80, n=50)\n",
        "sns.heatmap(df.corr(), annot=True, fmt=\".02f\", cmap=my_cmap);"
      ],
      "metadata": {
        "colab": {
          "base_uri": "https://localhost:8080/",
          "height": 269
        },
        "id": "J5fbnI0glecZ",
        "outputId": "f7516dad-9dc1-4c42-dcbb-b2e4b0b0d693"
      },
      "execution_count": null,
      "outputs": [
        {
          "output_type": "display_data",
          "data": {
            "text/plain": [
              "<Figure size 432x288 with 2 Axes>"
            ],
            "image/png": "[encoded data removed]"
          },
          "metadata": {
            "needs_background": "light"
          }
        }
      ]
    },
    {
      "cell_type": "code",
      "execution_count": null,
      "metadata": {
        "id": "ocuXEU4009uZ"
      },
      "outputs": [],
      "source": [
        "#Create and show the annualized covariance matrix\n",
        "cov_matrix_annual = returns.cov() * 252"
      ]
    },
    {
      "cell_type": "markdown",
      "source": [
        "Return of a equally weighted portfolio"
      ],
      "metadata": {
        "id": "1-4GQ41l3sKq"
      }
    },
    {
      "cell_type": "code",
      "source": [
        "# Create and show the portoflio variance\n",
        "port_variance = np.dot(weights.T, np.dot(cov_matrix_annual, weights))\n",
        "port_variance"
      ],
      "metadata": {
        "colab": {
          "base_uri": "https://localhost:8080/"
        },
        "id": "2OKpGK1T3rBf",
        "outputId": "c331c2ab-9152-4493-d3f8-919e7c1b4f67"
      },
      "execution_count": null,
      "outputs": [
        {
          "output_type": "execute_result",
          "data": {
            "text/plain": [
              "0.05983299863922583"
            ]
          },
          "metadata": {},
          "execution_count": 49
        }
      ]
    },
    {
      "cell_type": "code",
      "execution_count": null,
      "metadata": {
        "colab": {
          "base_uri": "https://localhost:8080/"
        },
        "id": "PndjWILY1nyU",
        "outputId": "e0300490-7fd4-4efe-c081-8b191f14b465"
      },
      "outputs": [
        {
          "output_type": "execute_result",
          "data": {
            "text/plain": [
              "0.24460784664279644"
            ]
          },
          "metadata": {},
          "execution_count": 50
        }
      ],
      "source": [
        "#calculate the portfolio volatility\n",
        "port_volatility = np.sqrt(port_variance)\n",
        "port_volatility"
      ]
    },
    {
      "cell_type": "code",
      "source": [
        "#Calculate the annual portoflio return\n",
        "portfolioSimpleAnnualReturn = np.sum(returns.mean() *weights)*252\n",
        "portfolioSimpleAnnualReturn"
      ],
      "metadata": {
        "colab": {
          "base_uri": "https://localhost:8080/"
        },
        "id": "2MuALJ02rWWW",
        "outputId": "6e619b74-ec68-4209-f14b-f92fcb606fe6"
      },
      "execution_count": null,
      "outputs": [
        {
          "output_type": "execute_result",
          "data": {
            "text/plain": [
              "0.22759732954775505"
            ]
          },
          "metadata": {},
          "execution_count": 51
        }
      ]
    },
    {
      "cell_type": "markdown",
      "source": [
        "Portfolio optimization"
      ],
      "metadata": {
        "id": "D_zSE1cMrh6s"
      }
    },
    {
      "cell_type": "code",
      "source": [
        "#Portfolio Optimization\n",
        "\n",
        "#Calc the exp returns and the anualized smaple covariance matrix of the asset returns\n",
        "mu = expected_returns.mean_historical_return(df)\n",
        "S = risk_models.sample_cov(df)\n",
        "\n",
        "#Optimize for max sharpe ratio \n",
        "ef = EfficientFrontier(mu,S)\n",
        "\n",
        "w_sharpe = ef.max_sharpe()\n",
        "cleaned_weights = ef.clean_weights()\n",
        "print(cleaned_weights)\n",
        "ef.portfolio_performance(verbose = True)\n"
      ],
      "metadata": {
        "colab": {
          "base_uri": "https://localhost:8080/"
        },
        "id": "4gGkrioqeNrj",
        "outputId": "667acad3-dfe7-4a98-e201-6a56ec2befb5"
      },
      "execution_count": null,
      "outputs": [
        {
          "output_type": "stream",
          "name": "stdout",
          "text": [
            "OrderedDict([('META', 0.0), ('AAPL', 0.59721), ('NFLX', 0.36042), ('GOOG', 0.04237), ('AIG', 0.0), ('QCOM', 0.0)])\n",
            "Expected annual return: 27.8%\n",
            "Annual volatility: 28.8%\n",
            "Sharpe Ratio: 0.90\n"
          ]
        },
        {
          "output_type": "execute_result",
          "data": {
            "text/plain": [
              "(0.27757275917111635, 0.2875092449176233, 0.8958764412772733)"
            ]
          },
          "metadata": {},
          "execution_count": 52
        }
      ]
    },
    {
      "cell_type": "code",
      "source": [
        "perf = ef.portfolio_performance()[1]\n",
        "l = list(ef.portfolio_performance())"
      ],
      "metadata": {
        "id": "0M2srPMR1ndH"
      },
      "execution_count": null,
      "outputs": []
    },
    {
      "cell_type": "code",
      "source": [
        "perf"
      ],
      "metadata": {
        "colab": {
          "base_uri": "https://localhost:8080/"
        },
        "id": "iuEM7lux2CAW",
        "outputId": "7d6949c0-f9d4-4e9e-81d3-89596a6e8b14"
      },
      "execution_count": null,
      "outputs": [
        {
          "output_type": "execute_result",
          "data": {
            "text/plain": [
              "0.2875092449176233"
            ]
          },
          "metadata": {},
          "execution_count": 54
        }
      ]
    },
    {
      "cell_type": "code",
      "source": [
        "\n",
        "ef = EfficientFrontier(mu,S)\n",
        "fig, ax = plt.subplots()\n",
        "ef_max_sharpe = ef.deepcopy()\n",
        "plotting.plot_efficient_frontier(ef, ax=ax, show_assets=False)\n",
        "\n",
        "# Find the tangency portfolio\n",
        "ef_max_sharpe.max_sharpe()\n",
        "ret_tangent, std_tangent, _ = ef_max_sharpe.portfolio_performance()\n",
        "ax.scatter(std_tangent, ret_tangent, marker=\"*\", s=100, c=\"r\", label=\"Max Sharpe\")\n",
        "\n",
        "# Generate random portfolios\n",
        "n_samples = 10000\n",
        "w = np.random.dirichlet(np.ones(ef.n_assets), n_samples)\n",
        "rets = w.dot(ef.expected_returns)\n",
        "stds = np.sqrt(np.diag(w @ ef.cov_matrix @ w.T))\n",
        "sharpes = rets / stds\n",
        "ax.scatter(stds, rets, marker=\".\", c=sharpes, cmap=\"viridis_r\")\n",
        "\n",
        "# Output\n",
        "plt.figure(figsize = (20,14))\n",
        "\n",
        "ax.set_title(\"Efficient Frontier with random portfolios\")\n",
        "ax.legend()\n",
        "\n",
        "plt.tight_layout()\n",
        "plt.show()"
      ],
      "metadata": {
        "colab": {
          "base_uri": "https://localhost:8080/",
          "height": 330
        },
        "id": "KyB9iSTcp-8y",
        "outputId": "64bbc26a-fc39-4543-8728-6dde13f66c5f"
      },
      "execution_count": null,
      "outputs": [
        {
          "output_type": "display_data",
          "data": {
            "text/plain": [
              "<Figure size 432x288 with 1 Axes>"
            ],
            "image/png": "[encoded data removed]"
          },
          "metadata": {
            "needs_background": "light"
          }
        },
        {
          "output_type": "display_data",
          "data": {
            "text/plain": [
              "<Figure size 1440x1008 with 0 Axes>"
            ]
          },
          "metadata": {}
        }
      ]
    },
    {
      "cell_type": "code",
      "source": [
        "#Get the discrete allocation of each share per stock\n",
        "from pypfopt.discrete_allocation import DiscreteAllocation, get_latest_prices\n",
        "latest_prices = get_latest_prices(df)\n",
        "capital = 10000\n",
        "weights = cleaned_weights\n",
        "print(weights)\n",
        "da = DiscreteAllocation(weights, latest_prices, total_portfolio_value= capital)\n",
        "\n",
        "allocation, leftover = da.lp_portfolio()\n",
        "print(\"discrete Allocairton :\", allocation)\n",
        "print(\"Fund remaining :\" , leftover)"
      ],
      "metadata": {
        "colab": {
          "base_uri": "https://localhost:8080/"
        },
        "id": "f0d9ujTT0DHB",
        "outputId": "68fe439e-3e31-4715-b737-a341e097b9d8"
      },
      "execution_count": null,
      "outputs": [
        {
          "output_type": "stream",
          "name": "stdout",
          "text": [
            "OrderedDict([('META', 0.0), ('AAPL', 0.59721), ('NFLX', 0.36042), ('GOOG', 0.04237), ('AIG', 0.0), ('QCOM', 0.0)])\n",
            "discrete Allocairton : {'AAPL': 44, 'NFLX': 12, 'GOOG': 5}\n",
            "Fund remaining : 138.74033880510615\n"
          ]
        },
        {
          "output_type": "stream",
          "name": "stderr",
          "text": [
            "/usr/local/lib/python3.8/dist-packages/cvxpy/problems/problem.py:1337: UserWarning: Solution may be inaccurate. Try another solver, adjusting the solver settings, or solve with verbose=True for more information.\n",
            "  warnings.warn(\n"
          ]
        }
      ]
    },
    {
      "cell_type": "code",
      "source": [
        "w_minvar = list(weights.values())\n",
        "for i in range(len(w_minvar)):\n",
        "  print(f'{SnP[i]} with wieghts = {w_minvar[i]}')"
      ],
      "metadata": {
        "colab": {
          "base_uri": "https://localhost:8080/"
        },
        "id": "t-8lBn6x0eyp",
        "outputId": "00d963b7-1ce7-49a3-df9f-d6425fa24a43"
      },
      "execution_count": null,
      "outputs": [
        {
          "output_type": "stream",
          "name": "stdout",
          "text": [
            "META with wieghts = 0.0\n",
            "AAPL with wieghts = 0.59721\n",
            "NFLX with wieghts = 0.36042\n",
            "GOOG with wieghts = 0.04237\n",
            "AIG with wieghts = 0.0\n",
            "QCOM with wieghts = 0.0\n"
          ]
        }
      ]
    },
    {
      "cell_type": "code",
      "source": [
        "print(f'If we are investing {capital} into {SnP} stocks with the above mentioned weights, then we get a return of {l[1]*100}% and a sharpe ratio of {l[2]}')\n",
        "\n",
        "print(f'the number of corresponding stocks that we need to buy are \\n {allocation}')"
      ],
      "metadata": {
        "colab": {
          "base_uri": "https://localhost:8080/"
        },
        "id": "8dubGBZS1PaD",
        "outputId": "e2714fa7-ccd4-4d90-d73c-0399669f9973"
      },
      "execution_count": null,
      "outputs": [
        {
          "output_type": "stream",
          "name": "stdout",
          "text": [
            "If we are investing 10000 into ['META', 'AAPL', 'NFLX', 'GOOG', 'AIG', 'QCOM', 'EMC', 'FB', 'IRX'] stocks with the above mentioned weights, then we get a return of 28.75092449176233% and a sharpe ratio of 0.8958764412772733\n",
            "the number of corresponding stocks that we need to buy are \n",
            " {'AAPL': 44, 'NFLX': 12, 'GOOG': 5}\n"
          ]
        }
      ]
    },
    {
      "cell_type": "markdown",
      "source": [
        "Comparison between equaly weighted portfolio and optimized portofolio"
      ],
      "metadata": {
        "id": "jl4gIwFlqLLe"
      }
    },
    {
      "cell_type": "code",
      "source": [
        "print(f'Difference in return = {l[1]*100 -portfolioSimpleAnnualReturn*100}%')\n",
        "print(f'Difference in Volatility = {(perf -port_volatility)*100}%')"
      ],
      "metadata": {
        "colab": {
          "base_uri": "https://localhost:8080/"
        },
        "id": "3LBAnJ9fqRiP",
        "outputId": "7be3bc1f-ca94-457a-dd38-ba6f1bb54b10"
      },
      "execution_count": null,
      "outputs": [
        {
          "output_type": "stream",
          "name": "stdout",
          "text": [
            "Difference in return = 5.991191536986825%\n",
            "Difference in Volatility = 4.290139827482687%\n"
          ]
        }
      ]
    }
  ]
}