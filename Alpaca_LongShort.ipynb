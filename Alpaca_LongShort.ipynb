{
 "cells": [
  {
   "cell_type": "code",
   "execution_count": 2,
   "id": "a37fc87e-b9c9-4fe1-ae99-69c3f3bb980c",
   "metadata": {},
   "outputs": [],
   "source": [
    "#Copy paste API key and Password from paper trading account\n",
    "password= \"7zLQqlPDDYbuFJiB1OBUhHkRg9rHCy49hnKljeQz\"\n",
    "API = \"PKR72SJF21YRGY2FJQ7C\""
   ]
  },
  {
   "cell_type": "code",
   "execution_count": 1,
   "id": "c3dfbab2-124f-40e7-a66c-4075a8d36c39",
   "metadata": {
    "scrolled": true
   },
   "outputs": [
    {
     "name": "stdout",
     "output_type": "stream",
     "text": [
      "Requirement already satisfied: alpaca-py in /opt/anaconda3/lib/python3.12/site-packages (0.30.1)\n",
      "Requirement already satisfied: msgpack<2.0.0,>=1.0.3 in /opt/anaconda3/lib/python3.12/site-packages (from alpaca-py) (1.0.3)\n",
      "Requirement already satisfied: pandas>=1.5.3 in /opt/anaconda3/lib/python3.12/site-packages (from alpaca-py) (2.2.2)\n",
      "Requirement already satisfied: pydantic<3.0.0,>=2.0.3 in /opt/anaconda3/lib/python3.12/site-packages (from alpaca-py) (2.5.3)\n",
      "Requirement already satisfied: requests<3.0.0,>=2.30.0 in /opt/anaconda3/lib/python3.12/site-packages (from alpaca-py) (2.32.2)\n",
      "Requirement already satisfied: sseclient-py<2.0.0,>=1.7.2 in /opt/anaconda3/lib/python3.12/site-packages (from alpaca-py) (1.8.0)\n",
      "Requirement already satisfied: websockets>=10.4 in /opt/anaconda3/lib/python3.12/site-packages (from alpaca-py) (10.4)\n",
      "Requirement already satisfied: numpy>=1.26.0 in /opt/anaconda3/lib/python3.12/site-packages (from pandas>=1.5.3->alpaca-py) (1.26.4)\n",
      "Requirement already satisfied: python-dateutil>=2.8.2 in /opt/anaconda3/lib/python3.12/site-packages (from pandas>=1.5.3->alpaca-py) (2.9.0.post0)\n",
      "Requirement already satisfied: pytz>=2020.1 in /opt/anaconda3/lib/python3.12/site-packages (from pandas>=1.5.3->alpaca-py) (2024.1)\n",
      "Requirement already satisfied: tzdata>=2022.7 in /opt/anaconda3/lib/python3.12/site-packages (from pandas>=1.5.3->alpaca-py) (2023.3)\n",
      "Requirement already satisfied: annotated-types>=0.4.0 in /opt/anaconda3/lib/python3.12/site-packages (from pydantic<3.0.0,>=2.0.3->alpaca-py) (0.6.0)\n",
      "Requirement already satisfied: pydantic-core==2.14.6 in /opt/anaconda3/lib/python3.12/site-packages (from pydantic<3.0.0,>=2.0.3->alpaca-py) (2.14.6)\n",
      "Requirement already satisfied: typing-extensions>=4.6.1 in /opt/anaconda3/lib/python3.12/site-packages (from pydantic<3.0.0,>=2.0.3->alpaca-py) (4.11.0)\n",
      "Requirement already satisfied: charset-normalizer<4,>=2 in /opt/anaconda3/lib/python3.12/site-packages (from requests<3.0.0,>=2.30.0->alpaca-py) (2.0.4)\n",
      "Requirement already satisfied: idna<4,>=2.5 in /opt/anaconda3/lib/python3.12/site-packages (from requests<3.0.0,>=2.30.0->alpaca-py) (3.7)\n",
      "Requirement already satisfied: urllib3<3,>=1.21.1 in /opt/anaconda3/lib/python3.12/site-packages (from requests<3.0.0,>=2.30.0->alpaca-py) (1.26.20)\n",
      "Requirement already satisfied: certifi>=2017.4.17 in /opt/anaconda3/lib/python3.12/site-packages (from requests<3.0.0,>=2.30.0->alpaca-py) (2024.8.30)\n",
      "Requirement already satisfied: six>=1.5 in /opt/anaconda3/lib/python3.12/site-packages (from python-dateutil>=2.8.2->pandas>=1.5.3->alpaca-py) (1.16.0)\n",
      "Requirement already satisfied: alpaca-trade-api in /opt/anaconda3/lib/python3.12/site-packages (3.2.0)\n",
      "Requirement already satisfied: pandas>=0.18.1 in /opt/anaconda3/lib/python3.12/site-packages (from alpaca-trade-api) (2.2.2)\n",
      "Requirement already satisfied: numpy>=1.11.1 in /opt/anaconda3/lib/python3.12/site-packages (from alpaca-trade-api) (1.26.4)\n",
      "Requirement already satisfied: requests<3,>2 in /opt/anaconda3/lib/python3.12/site-packages (from alpaca-trade-api) (2.32.2)\n",
      "Requirement already satisfied: urllib3<2,>1.24 in /opt/anaconda3/lib/python3.12/site-packages (from alpaca-trade-api) (1.26.20)\n",
      "Requirement already satisfied: websocket-client<2,>=0.56.0 in /opt/anaconda3/lib/python3.12/site-packages (from alpaca-trade-api) (1.8.0)\n",
      "Requirement already satisfied: websockets<11,>=9.0 in /opt/anaconda3/lib/python3.12/site-packages (from alpaca-trade-api) (10.4)\n",
      "Requirement already satisfied: msgpack==1.0.3 in /opt/anaconda3/lib/python3.12/site-packages (from alpaca-trade-api) (1.0.3)\n",
      "Requirement already satisfied: aiohttp<4,>=3.8.3 in /opt/anaconda3/lib/python3.12/site-packages (from alpaca-trade-api) (3.9.5)\n",
      "Requirement already satisfied: PyYAML==6.0.1 in /opt/anaconda3/lib/python3.12/site-packages (from alpaca-trade-api) (6.0.1)\n",
      "Requirement already satisfied: deprecation==2.1.0 in /opt/anaconda3/lib/python3.12/site-packages (from alpaca-trade-api) (2.1.0)\n",
      "Requirement already satisfied: packaging in /opt/anaconda3/lib/python3.12/site-packages (from deprecation==2.1.0->alpaca-trade-api) (23.2)\n",
      "Requirement already satisfied: aiosignal>=1.1.2 in /opt/anaconda3/lib/python3.12/site-packages (from aiohttp<4,>=3.8.3->alpaca-trade-api) (1.2.0)\n",
      "Requirement already satisfied: attrs>=17.3.0 in /opt/anaconda3/lib/python3.12/site-packages (from aiohttp<4,>=3.8.3->alpaca-trade-api) (23.1.0)\n",
      "Requirement already satisfied: frozenlist>=1.1.1 in /opt/anaconda3/lib/python3.12/site-packages (from aiohttp<4,>=3.8.3->alpaca-trade-api) (1.4.0)\n",
      "Requirement already satisfied: multidict<7.0,>=4.5 in /opt/anaconda3/lib/python3.12/site-packages (from aiohttp<4,>=3.8.3->alpaca-trade-api) (6.0.4)\n",
      "Requirement already satisfied: yarl<2.0,>=1.0 in /opt/anaconda3/lib/python3.12/site-packages (from aiohttp<4,>=3.8.3->alpaca-trade-api) (1.9.3)\n",
      "Requirement already satisfied: python-dateutil>=2.8.2 in /opt/anaconda3/lib/python3.12/site-packages (from pandas>=0.18.1->alpaca-trade-api) (2.9.0.post0)\n",
      "Requirement already satisfied: pytz>=2020.1 in /opt/anaconda3/lib/python3.12/site-packages (from pandas>=0.18.1->alpaca-trade-api) (2024.1)\n",
      "Requirement already satisfied: tzdata>=2022.7 in /opt/anaconda3/lib/python3.12/site-packages (from pandas>=0.18.1->alpaca-trade-api) (2023.3)\n",
      "Requirement already satisfied: charset-normalizer<4,>=2 in /opt/anaconda3/lib/python3.12/site-packages (from requests<3,>2->alpaca-trade-api) (2.0.4)\n",
      "Requirement already satisfied: idna<4,>=2.5 in /opt/anaconda3/lib/python3.12/site-packages (from requests<3,>2->alpaca-trade-api) (3.7)\n",
      "Requirement already satisfied: certifi>=2017.4.17 in /opt/anaconda3/lib/python3.12/site-packages (from requests<3,>2->alpaca-trade-api) (2024.8.30)\n",
      "Requirement already satisfied: six>=1.5 in /opt/anaconda3/lib/python3.12/site-packages (from python-dateutil>=2.8.2->pandas>=0.18.1->alpaca-trade-api) (1.16.0)\n"
     ]
    }
   ],
   "source": [
    "!pip install alpaca-py\n",
    "!pip install alpaca-trade-api"
   ]
  },
  {
   "cell_type": "code",
   "execution_count": 5,
   "id": "a8129c8d-3671-4971-9aa7-16ac74f43f4f",
   "metadata": {},
   "outputs": [],
   "source": [
    "from alpaca.trading.client import TradingClient\n",
    "from alpaca.trading.enums import OrderSide, TimeInForce\n",
    "from alpaca.trading.stream import TradingStream\n",
    "from alpaca.trading.requests import MarketOrderRequest\n",
    "\n",
    "client = TradingClient(API, password,paper = True)"
   ]
  },
  {
   "cell_type": "code",
   "execution_count": 7,
   "id": "6beb3a11-7f3d-4c33-ac9d-9aafcedb0889",
   "metadata": {},
   "outputs": [],
   "source": [
    "import requests\n",
    "import asyncio\n",
    "import alpaca_trade_api as tradeapi"
   ]
  },
  {
   "cell_type": "code",
   "execution_count": null,
   "id": "b2a33d5c-954c-492d-b544-aba4923f5a51",
   "metadata": {},
   "outputs": [],
   "source": [
    "#account = dict(client.get_account())\n",
    "#account\n",
    "#for key, value in account.items():\n",
    "#    print(f'{key} : {value}')\n"
   ]
  },
  {
   "cell_type": "code",
   "execution_count": null,
   "id": "3d45b754-1af4-4e45-a6bb-b1631046d564",
   "metadata": {},
   "outputs": [],
   "source": [
    "#This is how you place an order in Alpaca"
   ]
  },
  {
   "cell_type": "code",
   "execution_count": 47,
   "id": "da829324-49c5-4a8e-835a-952c774638f7",
   "metadata": {},
   "outputs": [
    {
     "name": "stdout",
     "output_type": "stream",
     "text": [
      "id=UUID('15318799-fda8-43ee-be50-950677c507f0') client_order_id='6a33b981-60d8-49e0-ad9d-c82b2fb41f99' created_at=datetime.datetime(2024, 9, 25, 20, 29, 13, 29584, tzinfo=TzInfo(UTC)) updated_at=datetime.datetime(2024, 9, 25, 20, 29, 13, 30356, tzinfo=TzInfo(UTC)) submitted_at=datetime.datetime(2024, 9, 25, 20, 29, 13, 29584, tzinfo=TzInfo(UTC)) filled_at=None expired_at=None canceled_at=None failed_at=None replaced_at=None replaced_by=None replaces=None asset_id=UUID('80e04a93-e1a8-4503-ab61-2ef1992650b4') symbol='PLTR' asset_class=<AssetClass.US_EQUITY: 'us_equity'> notional=None qty='10' filled_qty='0' filled_avg_price=None order_class=<OrderClass.SIMPLE: 'simple'> order_type=<OrderType.MARKET: 'market'> type=<OrderType.MARKET: 'market'> side=<OrderSide.BUY: 'buy'> time_in_force=<TimeInForce.DAY: 'day'> limit_price=None stop_price=None status=<OrderStatus.ACCEPTED: 'accepted'> extended_hours=False legs=None trail_percent=None trail_price=None hwm=None\n"
     ]
    }
   ],
   "source": [
    "order_details = MarketOrderRequest(\n",
    "    symbol = \"PLTR\",\n",
    "    qty = 10,\n",
    "    side = OrderSide.BUY, #OrderSide is the class and BUY is the obj\n",
    "    time_in_force = TimeInForce.DAY\n",
    ")\n",
    "\n",
    "order = client.submit_order(order_data = order_details) #synchronous\n",
    "trades = TradingStream(API, password, paper = True) # async function > waits for confirmation from event loop\n",
    "\n",
    "async def trade_status(data):\n",
    "    print(data)\n",
    "\n",
    "trades.subscribe_trade_updates(trade_status)\n",
    "\n",
    "#Runs this only after an event loop\n",
    "async def main():\n",
    "    await trades._run_forever()\n",
    "\n",
    "#check for an active event loop\n",
    "try: \n",
    "    #if event loop is running\n",
    "    loop = asyncio.get_running_loop()\n",
    "    task = loop.create_task(main()) #Sched main coroutine\n",
    "except RunTimeError:\n",
    "    #No event loop, so we start one\n",
    "    asyncio.run(main())\n",
    "except Exception as e:\n",
    "    print(\"error:\", e)\n",
    "\n",
    "print(client.get_order_by_id(order.id))\n"
   ]
  },
  {
   "cell_type": "code",
   "execution_count": 51,
   "id": "fbfb7ce0-5252-427e-9d58-2e37044fb6da",
   "metadata": {},
   "outputs": [],
   "source": [
    "#define a function for long and short\n",
    "\n",
    "def long(symbol: str, qty : int): \n",
    "    '''\n",
    "    Very basic. Can add tim_in_force variants, limit_orders, etc\n",
    "    '''\n",
    "    try: \n",
    "        order_details = MarketOrderRequest(\n",
    "            symbol = symbol,\n",
    "            qty = qty,\n",
    "            side = OrderSide.BUY,\n",
    "            time_in_force = TimeInForce.DAY #Order validity.Customizable -> GTC: Good till cancel [GTD: till day], IOC: Immediate or Cancel, FOK: FIll or Kill, OPG: Opening or kill,CLS: Exec at market close\n",
    "        )\n",
    "        order = client.submit_order(order_data = order_details)\n",
    "\n",
    "        #Wait for order filling and fetch details\n",
    "        order_status = client.get_order_by_id(order.id)\n",
    "        \n",
    "        if order_status.status == 'filled' :\n",
    "            filled_price = float(order_status.filled_avg_price)\n",
    "            print(f' Long {symbol}@ {filled_price} x {qty}')\n",
    "            return order.id\n",
    "        else:\n",
    "            print(f'Order status: {order_status.status}')\n",
    "            return None\n",
    "        \n",
    "    except Exception as e:\n",
    "        print(f'Failed to BUY order: {e}')\n",
    "        return None\n",
    "        \n",
    "\n",
    "def short(symbol: str, qty : int): \n",
    "    '''\n",
    "    Very basic. Can add tim_in_force variants, limit_orders, etc\n",
    "    '''\n",
    "    try: \n",
    "        order_details = MarketOrderRequest(\n",
    "            symbol = symbol,\n",
    "            qty = qty,\n",
    "            side = OrderSide.SELL,\n",
    "            time_in_force = TimeInForce.DAY #Order validity.Customizable -> GTC: Good till cancel [GTD: till day], IOC: Immediate or Cancel, FOK: FIll or Kill, OPG: Opening or kill,CLS: Exec at market close\n",
    "        )\n",
    "        order = client.submit_order(order_data = order_details)\n",
    "\n",
    "        #Wait for order filling and fetch details\n",
    "        order_status = client.get_order_by_id(order.id)\n",
    "        \n",
    "        if order_status.status =='filled':\n",
    "            filled_price = float(order_status.filled_avg_price)\n",
    "            print(f' Long {symbol}@ {filled_price} x {qty}')\n",
    "            return order.id\n",
    "        else:\n",
    "            print(f'Order status: {order_status.status}')\n",
    "            print(f'Order = {order_status}')\n",
    "            return None\n",
    "    except Exception as e:\n",
    "        print(f'Failed to BUY order: {e}')\n",
    "        return None\n",
    "                    "
   ]
  },
  {
   "cell_type": "code",
   "execution_count": 53,
   "id": "2ec3a7ad-913d-4ef8-a0dc-09edd101e4f9",
   "metadata": {},
   "outputs": [],
   "source": [
    "#Order History\n",
    "def order_book(order_id):\n",
    "    order_status=client.get_order(order_id)\n",
    "    if order_status.status =='filled':\n",
    "        filled_price = float(order_status.filled_avg_price)\n",
    "        return filled_price\n",
    "    else:\n",
    "        print(f'Order not filled : {order_status.status}')\n",
    "        return None\n"
   ]
  },
  {
   "cell_type": "code",
   "execution_count": 109,
   "id": "f5487f2c-dbbf-40f4-9ed4-79c5c53252fb",
   "metadata": {},
   "outputs": [
    {
     "name": "stdout",
     "output_type": "stream",
     "text": [
      "Order status: OrderStatus.ACCEPTED\n",
      "Order ID = None\n"
     ]
    }
   ],
   "source": [
    "def long(symbol: str, qty : int): \n",
    "    '''\n",
    "    Very basic. Can add tim_in_force variants, limit_orders, etc\n",
    "    '''\n",
    "    try: \n",
    "        order_details = MarketOrderRequest(\n",
    "            symbol = symbol,\n",
    "            qty = qty,\n",
    "            side = OrderSide.BUY,\n",
    "            time_in_force = TimeInForce.DAY #Order validity.Customizable -> GTC: Good till cancel [GTD: till day], IOC: Immediate or Cancel, FOK: FIll or Kill, OPG: Opening or kill,CLS: Exec at market close\n",
    "        )\n",
    "        order = client.submit_order(order_data = order_details)\n",
    "\n",
    "        #Wait for order filling and fetch details\n",
    "        order_status = client.get_order_by_id(order.id)\n",
    "        \n",
    "        if order_status.status == 'filled' :\n",
    "            filled_price = float(order_status.filled_avg_price)\n",
    "            print(f' Long {symbol}@ {filled_price} x {qty}')\n",
    "            return order.id\n",
    "        else:\n",
    "            print(f'Order status: {order_status.status}')\n",
    "            return None\n",
    "        time.sleep(2) # wait before checking whether the orer is filled or not\n",
    "    except Exception as e:\n",
    "        print(f'Failed to BUY order: {e}')\n",
    "        return None\n",
    "\n",
    "def track_order_status(order_id):\n",
    "    try:\n",
    "        while True:\n",
    "            order_status = client.get_order_by_id(order_id)\n",
    "            # Check if the order is filled\n",
    "            if order_status.status == 'filled':\n",
    "                filled_price = float(order_status.filled_avg_price)\n",
    "                print(f'Order {order_id} filled at price: {filled_price}')\n",
    "                return filled_price\n",
    "            else:\n",
    "                print(f'Order {order_id} status: {order_status.status}, waiting for it to fill...')\n",
    "            \n",
    "            # Wait before checking again\n",
    "            time.sleep(2)\n",
    "    \n",
    "    except Exception as e:\n",
    "        print(f'Error while tracking order: {e}')\n",
    "        return None\n",
    "\n",
    "\n"
   ]
  },
  {
   "cell_type": "code",
   "execution_count": 75,
   "id": "6f5002f0-87ef-49d7-b118-2ef12ac01aa2",
   "metadata": {},
   "outputs": [],
   "source": [
    "# from alpaca.trading.models import OrderStatus\n",
    "# from alpaca.trading.requests import GetOrdersRequest\n",
    "# from alpaca.trading.enums import QueryOrderStatus"
   ]
  },
  {
   "cell_type": "code",
   "execution_count": 107,
   "id": "24909d00-273f-437a-91bb-f859267f8eca",
   "metadata": {},
   "outputs": [
    {
     "data": {
      "text/plain": [
       "{   'asset_class': <AssetClass.US_EQUITY: 'us_equity'>,\n",
       "    'asset_id': UUID('80e04a93-e1a8-4503-ab61-2ef1992650b4'),\n",
       "    'canceled_at': None,\n",
       "    'client_order_id': 'b899110f-d2d7-422c-9bc9-17ac8776d0aa',\n",
       "    'created_at': datetime.datetime(2024, 9, 25, 18, 16, 34, 970007, tzinfo=TzInfo(UTC)),\n",
       "    'expired_at': None,\n",
       "    'extended_hours': False,\n",
       "    'failed_at': None,\n",
       "    'filled_at': datetime.datetime(2024, 9, 25, 18, 16, 35, 832521, tzinfo=TzInfo(UTC)),\n",
       "    'filled_avg_price': '36.9',\n",
       "    'filled_qty': '1',\n",
       "    'hwm': None,\n",
       "    'id': UUID('e083a8b9-a0ac-4c71-8eb8-fdbc250ccc3d'),\n",
       "    'legs': None,\n",
       "    'limit_price': None,\n",
       "    'notional': None,\n",
       "    'order_class': <OrderClass.SIMPLE: 'simple'>,\n",
       "    'order_type': <OrderType.MARKET: 'market'>,\n",
       "    'qty': '1',\n",
       "    'replaced_at': None,\n",
       "    'replaced_by': None,\n",
       "    'replaces': None,\n",
       "    'side': <OrderSide.BUY: 'buy'>,\n",
       "    'status': <OrderStatus.FILLED: 'filled'>,\n",
       "    'stop_price': None,\n",
       "    'submitted_at': datetime.datetime(2024, 9, 25, 18, 16, 34, 975937, tzinfo=TzInfo(UTC)),\n",
       "    'symbol': 'PLTR',\n",
       "    'time_in_force': <TimeInForce.DAY: 'day'>,\n",
       "    'trail_percent': None,\n",
       "    'trail_price': None,\n",
       "    'type': <OrderType.MARKET: 'market'>,\n",
       "    'updated_at': datetime.datetime(2024, 9, 25, 18, 16, 35, 835081, tzinfo=TzInfo(UTC))}"
      ]
     },
     "execution_count": 107,
     "metadata": {},
     "output_type": "execute_result"
    }
   ],
   "source": [
    "# # Get the last 100 closed orders\n",
    "# get_orders_data = GetOrdersRequest(\n",
    "#     status=QueryOrderStatus.CLOSED,\n",
    "#     limit=100,\n",
    "#     nested=True  # show nested multi-leg orders\n",
    "# )\n",
    "# client.get_orders(filter=get_orders_data)[1]"
   ]
  },
  {
   "cell_type": "code",
   "execution_count": null,
   "id": "e5cefb59-c066-4ec4-8600-982a1b400211",
   "metadata": {},
   "outputs": [],
   "source": []
  },
  {
   "cell_type": "code",
   "execution_count": null,
   "id": "f537cfd0-3800-48d2-bdee-c1efe7ab029f",
   "metadata": {},
   "outputs": [],
   "source": []
  },
  {
   "cell_type": "code",
   "execution_count": null,
   "id": "3ed2b3f3-3377-450b-b59f-de41e1391876",
   "metadata": {},
   "outputs": [],
   "source": [
    "#Now we have to implement MACD strategy\n",
    "\n",
    "\n",
    "\n"
   ]
  }
 ],
 "metadata": {
  "kernelspec": {
   "display_name": "Python 3 (ipykernel)",
   "language": "python",
   "name": "python3"
  },
  "language_info": {
   "codemirror_mode": {
    "name": "ipython",
    "version": 3
   },
   "file_extension": ".py",
   "mimetype": "text/x-python",
   "name": "python",
   "nbconvert_exporter": "python",
   "pygments_lexer": "ipython3",
   "version": "3.12.4"
  }
 },
 "nbformat": 4,
 "nbformat_minor": 5
}
